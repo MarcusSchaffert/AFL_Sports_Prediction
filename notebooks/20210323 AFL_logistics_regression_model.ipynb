{
 "cells": [
  {
   "cell_type": "code",
   "execution_count": 1,
   "id": "distinct-destruction",
   "metadata": {},
   "outputs": [],
   "source": [
    "import torch\n",
    "import pandas as pd\n",
    "import numpy as np\n",
    "import matplotlib.pyplot as plt\n",
    "from torch import nn,optim\n",
    "from mpl_toolkits.mplot3d import Axes3D\n",
    "from torch.utils.data import Dataset, DataLoader\n",
    "import torchvision.transforms as transforms\n",
    "from sklearn.model_selection import train_test_split"
   ]
  },
  {
   "cell_type": "code",
   "execution_count": 2,
   "id": "engaging-lying",
   "metadata": {},
   "outputs": [
    {
     "data": {
      "text/plain": [
       "<torch._C.Generator at 0x1b480c07f50>"
      ]
     },
     "execution_count": 2,
     "metadata": {},
     "output_type": "execute_result"
    }
   ],
   "source": [
    "torch.manual_seed(1)"
   ]
  },
  {
   "cell_type": "code",
   "execution_count": 4,
   "id": "concerned-facility",
   "metadata": {},
   "outputs": [
    {
     "name": "stdout",
     "output_type": "stream",
     "text": [
      "C:\\Users\\Marcus\\Desktop\\python\\alf_sports_betting_predictor\\data\n"
     ]
    }
   ],
   "source": [
    "cd C:\\Users\\Marcus\\Desktop\\python\\alf_sports_betting_predictor\\data"
   ]
  },
  {
   "cell_type": "code",
   "execution_count": 5,
   "id": "light-kitchen",
   "metadata": {},
   "outputs": [],
   "source": [
    "df = pd.read_csv('20210317 AFL_2020_stats_win_loss_normalised.csv')"
   ]
  },
  {
   "cell_type": "code",
   "execution_count": 6,
   "id": "straight-venice",
   "metadata": {},
   "outputs": [
    {
     "name": "stdout",
     "output_type": "stream",
     "text": [
      "<class 'pandas.core.frame.DataFrame'>\n",
      "RangeIndex: 153 entries, 0 to 152\n",
      "Data columns (total 10 columns):\n",
      " #   Column                              Non-Null Count  Dtype  \n",
      "---  ------                              --------------  -----  \n",
      " 0   kicks_home_team                     153 non-null    float64\n",
      " 1   one-percenters_home_team            153 non-null    float64\n",
      " 2   kicks_away_team                     153 non-null    float64\n",
      " 3   one-percenters_away_team            153 non-null    float64\n",
      " 4   home_win_lose                       153 non-null    int64  \n",
      " 5   away_win_lose                       153 non-null    int64  \n",
      " 6   kicks_home_team_normalise           153 non-null    float64\n",
      " 7   one-percenters_home_team_normalise  153 non-null    float64\n",
      " 8   kicks_away_team_normalise           153 non-null    float64\n",
      " 9   one-percenters_away_team_normalise  153 non-null    float64\n",
      "dtypes: float64(8), int64(2)\n",
      "memory usage: 12.1 KB\n"
     ]
    }
   ],
   "source": [
    "df.info()"
   ]
  },
  {
   "cell_type": "code",
   "execution_count": 7,
   "id": "demonstrated-administration",
   "metadata": {},
   "outputs": [
    {
     "data": {
      "text/html": [
       "<div>\n",
       "<style scoped>\n",
       "    .dataframe tbody tr th:only-of-type {\n",
       "        vertical-align: middle;\n",
       "    }\n",
       "\n",
       "    .dataframe tbody tr th {\n",
       "        vertical-align: top;\n",
       "    }\n",
       "\n",
       "    .dataframe thead th {\n",
       "        text-align: right;\n",
       "    }\n",
       "</style>\n",
       "<table border=\"1\" class=\"dataframe\">\n",
       "  <thead>\n",
       "    <tr style=\"text-align: right;\">\n",
       "      <th></th>\n",
       "      <th>kicks_home_team</th>\n",
       "      <th>one-percenters_home_team</th>\n",
       "      <th>kicks_away_team</th>\n",
       "      <th>one-percenters_away_team</th>\n",
       "      <th>home_win_lose</th>\n",
       "      <th>away_win_lose</th>\n",
       "      <th>kicks_home_team_normalise</th>\n",
       "      <th>one-percenters_home_team_normalise</th>\n",
       "      <th>kicks_away_team_normalise</th>\n",
       "      <th>one-percenters_away_team_normalise</th>\n",
       "    </tr>\n",
       "  </thead>\n",
       "  <tbody>\n",
       "    <tr>\n",
       "      <th>kicks_home_team</th>\n",
       "      <td>1.000000</td>\n",
       "      <td>0.818009</td>\n",
       "      <td>-0.058689</td>\n",
       "      <td>-0.013512</td>\n",
       "      <td>0.396426</td>\n",
       "      <td>-0.397543</td>\n",
       "      <td>1.000000</td>\n",
       "      <td>0.818009</td>\n",
       "      <td>-0.058689</td>\n",
       "      <td>-0.013512</td>\n",
       "    </tr>\n",
       "    <tr>\n",
       "      <th>one-percenters_home_team</th>\n",
       "      <td>0.818009</td>\n",
       "      <td>1.000000</td>\n",
       "      <td>-0.081458</td>\n",
       "      <td>-0.058843</td>\n",
       "      <td>0.461639</td>\n",
       "      <td>-0.457679</td>\n",
       "      <td>0.818009</td>\n",
       "      <td>1.000000</td>\n",
       "      <td>-0.081458</td>\n",
       "      <td>-0.058843</td>\n",
       "    </tr>\n",
       "    <tr>\n",
       "      <th>kicks_away_team</th>\n",
       "      <td>-0.058689</td>\n",
       "      <td>-0.081458</td>\n",
       "      <td>1.000000</td>\n",
       "      <td>0.805290</td>\n",
       "      <td>-0.269043</td>\n",
       "      <td>0.263346</td>\n",
       "      <td>-0.058689</td>\n",
       "      <td>-0.081458</td>\n",
       "      <td>1.000000</td>\n",
       "      <td>0.805290</td>\n",
       "    </tr>\n",
       "    <tr>\n",
       "      <th>one-percenters_away_team</th>\n",
       "      <td>-0.013512</td>\n",
       "      <td>-0.058843</td>\n",
       "      <td>0.805290</td>\n",
       "      <td>1.000000</td>\n",
       "      <td>-0.242352</td>\n",
       "      <td>0.237538</td>\n",
       "      <td>-0.013512</td>\n",
       "      <td>-0.058843</td>\n",
       "      <td>0.805290</td>\n",
       "      <td>1.000000</td>\n",
       "    </tr>\n",
       "    <tr>\n",
       "      <th>home_win_lose</th>\n",
       "      <td>0.396426</td>\n",
       "      <td>0.461639</td>\n",
       "      <td>-0.269043</td>\n",
       "      <td>-0.242352</td>\n",
       "      <td>1.000000</td>\n",
       "      <td>-0.973795</td>\n",
       "      <td>0.396426</td>\n",
       "      <td>0.461639</td>\n",
       "      <td>-0.269043</td>\n",
       "      <td>-0.242352</td>\n",
       "    </tr>\n",
       "    <tr>\n",
       "      <th>away_win_lose</th>\n",
       "      <td>-0.397543</td>\n",
       "      <td>-0.457679</td>\n",
       "      <td>0.263346</td>\n",
       "      <td>0.237538</td>\n",
       "      <td>-0.973795</td>\n",
       "      <td>1.000000</td>\n",
       "      <td>-0.397543</td>\n",
       "      <td>-0.457679</td>\n",
       "      <td>0.263346</td>\n",
       "      <td>0.237538</td>\n",
       "    </tr>\n",
       "    <tr>\n",
       "      <th>kicks_home_team_normalise</th>\n",
       "      <td>1.000000</td>\n",
       "      <td>0.818009</td>\n",
       "      <td>-0.058689</td>\n",
       "      <td>-0.013512</td>\n",
       "      <td>0.396426</td>\n",
       "      <td>-0.397543</td>\n",
       "      <td>1.000000</td>\n",
       "      <td>0.818009</td>\n",
       "      <td>-0.058689</td>\n",
       "      <td>-0.013512</td>\n",
       "    </tr>\n",
       "    <tr>\n",
       "      <th>one-percenters_home_team_normalise</th>\n",
       "      <td>0.818009</td>\n",
       "      <td>1.000000</td>\n",
       "      <td>-0.081458</td>\n",
       "      <td>-0.058843</td>\n",
       "      <td>0.461639</td>\n",
       "      <td>-0.457679</td>\n",
       "      <td>0.818009</td>\n",
       "      <td>1.000000</td>\n",
       "      <td>-0.081458</td>\n",
       "      <td>-0.058843</td>\n",
       "    </tr>\n",
       "    <tr>\n",
       "      <th>kicks_away_team_normalise</th>\n",
       "      <td>-0.058689</td>\n",
       "      <td>-0.081458</td>\n",
       "      <td>1.000000</td>\n",
       "      <td>0.805290</td>\n",
       "      <td>-0.269043</td>\n",
       "      <td>0.263346</td>\n",
       "      <td>-0.058689</td>\n",
       "      <td>-0.081458</td>\n",
       "      <td>1.000000</td>\n",
       "      <td>0.805290</td>\n",
       "    </tr>\n",
       "    <tr>\n",
       "      <th>one-percenters_away_team_normalise</th>\n",
       "      <td>-0.013512</td>\n",
       "      <td>-0.058843</td>\n",
       "      <td>0.805290</td>\n",
       "      <td>1.000000</td>\n",
       "      <td>-0.242352</td>\n",
       "      <td>0.237538</td>\n",
       "      <td>-0.013512</td>\n",
       "      <td>-0.058843</td>\n",
       "      <td>0.805290</td>\n",
       "      <td>1.000000</td>\n",
       "    </tr>\n",
       "  </tbody>\n",
       "</table>\n",
       "</div>"
      ],
      "text/plain": [
       "                                    kicks_home_team  one-percenters_home_team  \\\n",
       "kicks_home_team                            1.000000                  0.818009   \n",
       "one-percenters_home_team                   0.818009                  1.000000   \n",
       "kicks_away_team                           -0.058689                 -0.081458   \n",
       "one-percenters_away_team                  -0.013512                 -0.058843   \n",
       "home_win_lose                              0.396426                  0.461639   \n",
       "away_win_lose                             -0.397543                 -0.457679   \n",
       "kicks_home_team_normalise                  1.000000                  0.818009   \n",
       "one-percenters_home_team_normalise         0.818009                  1.000000   \n",
       "kicks_away_team_normalise                 -0.058689                 -0.081458   \n",
       "one-percenters_away_team_normalise        -0.013512                 -0.058843   \n",
       "\n",
       "                                    kicks_away_team  one-percenters_away_team  \\\n",
       "kicks_home_team                           -0.058689                 -0.013512   \n",
       "one-percenters_home_team                  -0.081458                 -0.058843   \n",
       "kicks_away_team                            1.000000                  0.805290   \n",
       "one-percenters_away_team                   0.805290                  1.000000   \n",
       "home_win_lose                             -0.269043                 -0.242352   \n",
       "away_win_lose                              0.263346                  0.237538   \n",
       "kicks_home_team_normalise                 -0.058689                 -0.013512   \n",
       "one-percenters_home_team_normalise        -0.081458                 -0.058843   \n",
       "kicks_away_team_normalise                  1.000000                  0.805290   \n",
       "one-percenters_away_team_normalise         0.805290                  1.000000   \n",
       "\n",
       "                                    home_win_lose  away_win_lose  \\\n",
       "kicks_home_team                          0.396426      -0.397543   \n",
       "one-percenters_home_team                 0.461639      -0.457679   \n",
       "kicks_away_team                         -0.269043       0.263346   \n",
       "one-percenters_away_team                -0.242352       0.237538   \n",
       "home_win_lose                            1.000000      -0.973795   \n",
       "away_win_lose                           -0.973795       1.000000   \n",
       "kicks_home_team_normalise                0.396426      -0.397543   \n",
       "one-percenters_home_team_normalise       0.461639      -0.457679   \n",
       "kicks_away_team_normalise               -0.269043       0.263346   \n",
       "one-percenters_away_team_normalise      -0.242352       0.237538   \n",
       "\n",
       "                                    kicks_home_team_normalise  \\\n",
       "kicks_home_team                                      1.000000   \n",
       "one-percenters_home_team                             0.818009   \n",
       "kicks_away_team                                     -0.058689   \n",
       "one-percenters_away_team                            -0.013512   \n",
       "home_win_lose                                        0.396426   \n",
       "away_win_lose                                       -0.397543   \n",
       "kicks_home_team_normalise                            1.000000   \n",
       "one-percenters_home_team_normalise                   0.818009   \n",
       "kicks_away_team_normalise                           -0.058689   \n",
       "one-percenters_away_team_normalise                  -0.013512   \n",
       "\n",
       "                                    one-percenters_home_team_normalise  \\\n",
       "kicks_home_team                                               0.818009   \n",
       "one-percenters_home_team                                      1.000000   \n",
       "kicks_away_team                                              -0.081458   \n",
       "one-percenters_away_team                                     -0.058843   \n",
       "home_win_lose                                                 0.461639   \n",
       "away_win_lose                                                -0.457679   \n",
       "kicks_home_team_normalise                                     0.818009   \n",
       "one-percenters_home_team_normalise                            1.000000   \n",
       "kicks_away_team_normalise                                    -0.081458   \n",
       "one-percenters_away_team_normalise                           -0.058843   \n",
       "\n",
       "                                    kicks_away_team_normalise  \\\n",
       "kicks_home_team                                     -0.058689   \n",
       "one-percenters_home_team                            -0.081458   \n",
       "kicks_away_team                                      1.000000   \n",
       "one-percenters_away_team                             0.805290   \n",
       "home_win_lose                                       -0.269043   \n",
       "away_win_lose                                        0.263346   \n",
       "kicks_home_team_normalise                           -0.058689   \n",
       "one-percenters_home_team_normalise                  -0.081458   \n",
       "kicks_away_team_normalise                            1.000000   \n",
       "one-percenters_away_team_normalise                   0.805290   \n",
       "\n",
       "                                    one-percenters_away_team_normalise  \n",
       "kicks_home_team                                              -0.013512  \n",
       "one-percenters_home_team                                     -0.058843  \n",
       "kicks_away_team                                               0.805290  \n",
       "one-percenters_away_team                                      1.000000  \n",
       "home_win_lose                                                -0.242352  \n",
       "away_win_lose                                                 0.237538  \n",
       "kicks_home_team_normalise                                    -0.013512  \n",
       "one-percenters_home_team_normalise                           -0.058843  \n",
       "kicks_away_team_normalise                                     0.805290  \n",
       "one-percenters_away_team_normalise                            1.000000  "
      ]
     },
     "execution_count": 7,
     "metadata": {},
     "output_type": "execute_result"
    }
   ],
   "source": [
    "df.corr()"
   ]
  },
  {
   "cell_type": "code",
   "execution_count": 8,
   "id": "decimal-giant",
   "metadata": {},
   "outputs": [],
   "source": [
    "def remove_zeroes_from_dataset(df, column):\n",
    "    mask = df[column] != 0.0\n",
    "    df = df.loc[mask]\n",
    "    return df "
   ]
  },
  {
   "cell_type": "code",
   "execution_count": 9,
   "id": "private-latter",
   "metadata": {},
   "outputs": [],
   "source": [
    "#df = remove_zeroes_from_dataset(df, 'bathrooms')"
   ]
  },
  {
   "cell_type": "code",
   "execution_count": 10,
   "id": "ambient-january",
   "metadata": {},
   "outputs": [
    {
     "data": {
      "text/plain": [
       "Index(['kicks_home_team', 'one-percenters_home_team', 'kicks_away_team',\n",
       "       'one-percenters_away_team', 'home_win_lose', 'away_win_lose',\n",
       "       'kicks_home_team_normalise', 'one-percenters_home_team_normalise',\n",
       "       'kicks_away_team_normalise', 'one-percenters_away_team_normalise'],\n",
       "      dtype='object')"
      ]
     },
     "execution_count": 10,
     "metadata": {},
     "output_type": "execute_result"
    }
   ],
   "source": [
    "df.columns"
   ]
  },
  {
   "cell_type": "code",
   "execution_count": 11,
   "id": "automated-thermal",
   "metadata": {},
   "outputs": [],
   "source": [
    "train, test = train_test_split(df[[df.columns[4], df.columns[5], df.columns[6], df.columns[7], df.columns[8], df.columns[9]]], test_size=0.2)"
   ]
  },
  {
   "cell_type": "code",
   "execution_count": 42,
   "id": "suitable-newspaper",
   "metadata": {},
   "outputs": [],
   "source": [
    "from torch.utils.data import Dataset, DataLoader\n",
    "class Data(Dataset):\n",
    "    def __init__(self, df_rows_size, df_columns_size, output_size):\n",
    "            self.x=torch.zeros(df_rows_size, df_columns_size)\n",
    "            self.y=torch.zeros(df_rows_size, output_size)\n",
    "            self.len= df_rows_size\n",
    "\n",
    "    def __getitem__(self,index):\n",
    "\n",
    "        return self.x[index],self.y[index]\n",
    "    \n",
    "    def __len__(self):\n",
    "        return self.len"
   ]
  },
  {
   "cell_type": "code",
   "execution_count": 45,
   "id": "royal-watershed",
   "metadata": {},
   "outputs": [],
   "source": [
    "# making dataset and filling the x and y values with the data tensors we need \n",
    "# rows: size of dataset set \n",
    "#columns: 4\n",
    "dataset_train =Data(train.shape[0], 4, 2)\n",
    "dataset_test =Data(test.shape[0], 4, 2)\n"
   ]
  },
  {
   "cell_type": "code",
   "execution_count": 46,
   "id": "static-portable",
   "metadata": {},
   "outputs": [
    {
     "data": {
      "text/plain": [
       "Index(['home_win_lose', 'away_win_lose', 'kicks_home_team_normalise',\n",
       "       'one-percenters_home_team_normalise', 'kicks_away_team_normalise',\n",
       "       'one-percenters_away_team_normalise'],\n",
       "      dtype='object')"
      ]
     },
     "execution_count": 46,
     "metadata": {},
     "output_type": "execute_result"
    }
   ],
   "source": [
    "train.columns"
   ]
  },
  {
   "cell_type": "code",
   "execution_count": 47,
   "id": "specified-premises",
   "metadata": {},
   "outputs": [],
   "source": [
    "# making dataset and filling the x and y values with the data tensors we need \n",
    "# rows: size of dataset set \n",
    "#columns: 4\n",
    "dataset_train =Data(train.shape[0], 4, 2)\n",
    "dataset_test =Data(test.shape[0], 4, 2)\n",
    "\n",
    "# convert dataframe columns to tensors \n",
    "x_feature_1 = torch.FloatTensor(train['kicks_home_team_normalise'].to_list())\n",
    "x_feature_2 = torch.FloatTensor(train['one-percenters_home_team_normalise'].to_list())\n",
    "x_feature_3 = torch.FloatTensor(train['kicks_away_team_normalise'].to_list())\n",
    "x_feature_4 = torch.FloatTensor(train['one-percenters_away_team_normalise'].to_list())\n",
    "y_feature_1 = torch.FloatTensor(train['home_win_lose'].to_list())\n",
    "y_feature_2 = torch.FloatTensor(train['away_win_lose'].to_list())\n",
    "\n",
    "# set tensor columns \n",
    "dataset_train.x[:, 0] = x_feature_1\n",
    "dataset_train.x[:, 1] = x_feature_2\n",
    "dataset_train.x[:, 2] = x_feature_3\n",
    "dataset_train.x[:, 3] = x_feature_4\n",
    "dataset_train.y[:, 0] = y_feature_1\n",
    "dataset_train.y[:, 1] = y_feature_1\n",
    "\n",
    "# convert dataframe columns to tensors \n",
    "x_feature_1 = torch.FloatTensor(test['kicks_home_team_normalise'].to_list())\n",
    "x_feature_2 = torch.FloatTensor(test['one-percenters_home_team_normalise'].to_list())\n",
    "x_feature_3 = torch.FloatTensor(test['kicks_away_team_normalise'].to_list())\n",
    "x_feature_4 = torch.FloatTensor(test['one-percenters_away_team_normalise'].to_list())\n",
    "y_feature_1 = torch.FloatTensor(test['home_win_lose'].to_list())\n",
    "y_feature_2 = torch.FloatTensor(test['away_win_lose'].to_list())\n",
    "\n",
    "# set tensor columns \n",
    "dataset_test.x[:, 0] = x_feature_1\n",
    "dataset_test.x[:, 1] = x_feature_2\n",
    "dataset_test.x[:, 2] = x_feature_3\n",
    "dataset_test.x[:, 3] = x_feature_4\n",
    "dataset_test.y[:, 0] = y_feature_1\n",
    "dataset_test.y[:, 1] = y_feature_2\n",
    "\n",
    "# create dataloader which loads the dataset for training \n",
    "# set batch size if batches are needed \n",
    "train_loader=DataLoader(dataset=dataset_train ,batch_size=150)\n",
    "test_loader=DataLoader(dataset=dataset_train ,batch_size=150)"
   ]
  },
  {
   "cell_type": "code",
   "execution_count": 48,
   "id": "hearing-oxford",
   "metadata": {},
   "outputs": [],
   "source": [
    "class logistic_regression(nn.Module):\n",
    "    def __init__(self,input_size,output_size):\n",
    "        super(logistic_regression,self).__init__()\n",
    "        self.linear=nn.Linear(input_size,output_size)\n",
    "        \n",
    "    def forward(self,x):\n",
    "        yhat=torch.sigmoid(self.linear(x))\n",
    "        return yhat"
   ]
  },
  {
   "cell_type": "code",
   "execution_count": 49,
   "id": "persistent-documentation",
   "metadata": {},
   "outputs": [],
   "source": [
    "# Create dataloader object, crierion function and optimizer.\n",
    "model = logistic_regression(4, 2)\n",
    "trainloader = DataLoader(dataset=dataset_train, batch_size=10)\n",
    "#criterion_rms = nn.MSELoss()\n",
    "criterion = nn.CrossEntropyLoss()\n",
    "learning_rate = .01\n",
    "optimizer = torch.optim.SGD(model.parameters(), lr=learning_rate, momentum=.6)"
   ]
  },
  {
   "cell_type": "code",
   "execution_count": 50,
   "id": "essential-arlington",
   "metadata": {},
   "outputs": [],
   "source": [
    "def train_model(epochs, LOSS):\n",
    "    for epoch in range(epochs):\n",
    "        yhat = model(dataset_train.x)\n",
    "        loss = criterion(yhat, dataset_train.y)\n",
    "        LOSS.append(loss.item())\n",
    "        optimizer.zero_grad()\n",
    "        loss.backward()\n",
    "        optimizer.step()\n",
    "    return LOSS"
   ]
  },
  {
   "cell_type": "code",
   "execution_count": 38,
   "id": "polar-colon",
   "metadata": {},
   "outputs": [
    {
     "ename": "RuntimeError",
     "evalue": "1D target tensor expected, multi-target not supported",
     "output_type": "error",
     "traceback": [
      "\u001b[1;31m---------------------------------------------------------------------------\u001b[0m",
      "\u001b[1;31mRuntimeError\u001b[0m                              Traceback (most recent call last)",
      "\u001b[1;32m<ipython-input-38-c62d7eb388f5>\u001b[0m in \u001b[0;36m<module>\u001b[1;34m\u001b[0m\n\u001b[0;32m      1\u001b[0m \u001b[0mLOSS\u001b[0m \u001b[1;33m=\u001b[0m \u001b[1;33m[\u001b[0m\u001b[1;33m]\u001b[0m\u001b[1;33m\u001b[0m\u001b[1;33m\u001b[0m\u001b[0m\n\u001b[1;32m----> 2\u001b[1;33m \u001b[0mloss\u001b[0m \u001b[1;33m=\u001b[0m \u001b[0mtrain_model\u001b[0m\u001b[1;33m(\u001b[0m\u001b[1;36m500\u001b[0m\u001b[1;33m,\u001b[0m \u001b[0mLOSS\u001b[0m\u001b[1;33m)\u001b[0m\u001b[1;33m\u001b[0m\u001b[1;33m\u001b[0m\u001b[0m\n\u001b[0m",
      "\u001b[1;32m<ipython-input-37-aa6a67b34c73>\u001b[0m in \u001b[0;36mtrain_model\u001b[1;34m(epochs, LOSS)\u001b[0m\n\u001b[0;32m      2\u001b[0m     \u001b[1;32mfor\u001b[0m \u001b[0mepoch\u001b[0m \u001b[1;32min\u001b[0m \u001b[0mrange\u001b[0m\u001b[1;33m(\u001b[0m\u001b[0mepochs\u001b[0m\u001b[1;33m)\u001b[0m\u001b[1;33m:\u001b[0m\u001b[1;33m\u001b[0m\u001b[1;33m\u001b[0m\u001b[0m\n\u001b[0;32m      3\u001b[0m         \u001b[0myhat\u001b[0m \u001b[1;33m=\u001b[0m \u001b[0mmodel\u001b[0m\u001b[1;33m(\u001b[0m\u001b[0mdataset_train\u001b[0m\u001b[1;33m.\u001b[0m\u001b[0mx\u001b[0m\u001b[1;33m)\u001b[0m\u001b[1;33m\u001b[0m\u001b[1;33m\u001b[0m\u001b[0m\n\u001b[1;32m----> 4\u001b[1;33m         \u001b[0mloss\u001b[0m \u001b[1;33m=\u001b[0m \u001b[0mcriterion\u001b[0m\u001b[1;33m(\u001b[0m\u001b[0myhat\u001b[0m\u001b[1;33m,\u001b[0m \u001b[0mdataset_train\u001b[0m\u001b[1;33m.\u001b[0m\u001b[0my\u001b[0m\u001b[1;33m)\u001b[0m\u001b[1;33m\u001b[0m\u001b[1;33m\u001b[0m\u001b[0m\n\u001b[0m\u001b[0;32m      5\u001b[0m         \u001b[0mLOSS\u001b[0m\u001b[1;33m.\u001b[0m\u001b[0mappend\u001b[0m\u001b[1;33m(\u001b[0m\u001b[0mloss\u001b[0m\u001b[1;33m.\u001b[0m\u001b[0mitem\u001b[0m\u001b[1;33m(\u001b[0m\u001b[1;33m)\u001b[0m\u001b[1;33m)\u001b[0m\u001b[1;33m\u001b[0m\u001b[1;33m\u001b[0m\u001b[0m\n\u001b[0;32m      6\u001b[0m         \u001b[0moptimizer\u001b[0m\u001b[1;33m.\u001b[0m\u001b[0mzero_grad\u001b[0m\u001b[1;33m(\u001b[0m\u001b[1;33m)\u001b[0m\u001b[1;33m\u001b[0m\u001b[1;33m\u001b[0m\u001b[0m\n",
      "\u001b[1;32m~\\anaconda3\\envs\\marcusEnv\\lib\\site-packages\\torch\\nn\\modules\\module.py\u001b[0m in \u001b[0;36m__call__\u001b[1;34m(self, *input, **kwargs)\u001b[0m\n\u001b[0;32m    530\u001b[0m             \u001b[0mresult\u001b[0m \u001b[1;33m=\u001b[0m \u001b[0mself\u001b[0m\u001b[1;33m.\u001b[0m\u001b[0m_slow_forward\u001b[0m\u001b[1;33m(\u001b[0m\u001b[1;33m*\u001b[0m\u001b[0minput\u001b[0m\u001b[1;33m,\u001b[0m \u001b[1;33m**\u001b[0m\u001b[0mkwargs\u001b[0m\u001b[1;33m)\u001b[0m\u001b[1;33m\u001b[0m\u001b[1;33m\u001b[0m\u001b[0m\n\u001b[0;32m    531\u001b[0m         \u001b[1;32melse\u001b[0m\u001b[1;33m:\u001b[0m\u001b[1;33m\u001b[0m\u001b[1;33m\u001b[0m\u001b[0m\n\u001b[1;32m--> 532\u001b[1;33m             \u001b[0mresult\u001b[0m \u001b[1;33m=\u001b[0m \u001b[0mself\u001b[0m\u001b[1;33m.\u001b[0m\u001b[0mforward\u001b[0m\u001b[1;33m(\u001b[0m\u001b[1;33m*\u001b[0m\u001b[0minput\u001b[0m\u001b[1;33m,\u001b[0m \u001b[1;33m**\u001b[0m\u001b[0mkwargs\u001b[0m\u001b[1;33m)\u001b[0m\u001b[1;33m\u001b[0m\u001b[1;33m\u001b[0m\u001b[0m\n\u001b[0m\u001b[0;32m    533\u001b[0m         \u001b[1;32mfor\u001b[0m \u001b[0mhook\u001b[0m \u001b[1;32min\u001b[0m \u001b[0mself\u001b[0m\u001b[1;33m.\u001b[0m\u001b[0m_forward_hooks\u001b[0m\u001b[1;33m.\u001b[0m\u001b[0mvalues\u001b[0m\u001b[1;33m(\u001b[0m\u001b[1;33m)\u001b[0m\u001b[1;33m:\u001b[0m\u001b[1;33m\u001b[0m\u001b[1;33m\u001b[0m\u001b[0m\n\u001b[0;32m    534\u001b[0m             \u001b[0mhook_result\u001b[0m \u001b[1;33m=\u001b[0m \u001b[0mhook\u001b[0m\u001b[1;33m(\u001b[0m\u001b[0mself\u001b[0m\u001b[1;33m,\u001b[0m \u001b[0minput\u001b[0m\u001b[1;33m,\u001b[0m \u001b[0mresult\u001b[0m\u001b[1;33m)\u001b[0m\u001b[1;33m\u001b[0m\u001b[1;33m\u001b[0m\u001b[0m\n",
      "\u001b[1;32m~\\anaconda3\\envs\\marcusEnv\\lib\\site-packages\\torch\\nn\\modules\\loss.py\u001b[0m in \u001b[0;36mforward\u001b[1;34m(self, input, target)\u001b[0m\n\u001b[0;32m    913\u001b[0m \u001b[1;33m\u001b[0m\u001b[0m\n\u001b[0;32m    914\u001b[0m     \u001b[1;32mdef\u001b[0m \u001b[0mforward\u001b[0m\u001b[1;33m(\u001b[0m\u001b[0mself\u001b[0m\u001b[1;33m,\u001b[0m \u001b[0minput\u001b[0m\u001b[1;33m,\u001b[0m \u001b[0mtarget\u001b[0m\u001b[1;33m)\u001b[0m\u001b[1;33m:\u001b[0m\u001b[1;33m\u001b[0m\u001b[1;33m\u001b[0m\u001b[0m\n\u001b[1;32m--> 915\u001b[1;33m         return F.cross_entropy(input, target, weight=self.weight,\n\u001b[0m\u001b[0;32m    916\u001b[0m                                ignore_index=self.ignore_index, reduction=self.reduction)\n\u001b[0;32m    917\u001b[0m \u001b[1;33m\u001b[0m\u001b[0m\n",
      "\u001b[1;32m~\\anaconda3\\envs\\marcusEnv\\lib\\site-packages\\torch\\nn\\functional.py\u001b[0m in \u001b[0;36mcross_entropy\u001b[1;34m(input, target, weight, size_average, ignore_index, reduce, reduction)\u001b[0m\n\u001b[0;32m   2019\u001b[0m     \u001b[1;32mif\u001b[0m \u001b[0msize_average\u001b[0m \u001b[1;32mis\u001b[0m \u001b[1;32mnot\u001b[0m \u001b[1;32mNone\u001b[0m \u001b[1;32mor\u001b[0m \u001b[0mreduce\u001b[0m \u001b[1;32mis\u001b[0m \u001b[1;32mnot\u001b[0m \u001b[1;32mNone\u001b[0m\u001b[1;33m:\u001b[0m\u001b[1;33m\u001b[0m\u001b[1;33m\u001b[0m\u001b[0m\n\u001b[0;32m   2020\u001b[0m         \u001b[0mreduction\u001b[0m \u001b[1;33m=\u001b[0m \u001b[0m_Reduction\u001b[0m\u001b[1;33m.\u001b[0m\u001b[0mlegacy_get_string\u001b[0m\u001b[1;33m(\u001b[0m\u001b[0msize_average\u001b[0m\u001b[1;33m,\u001b[0m \u001b[0mreduce\u001b[0m\u001b[1;33m)\u001b[0m\u001b[1;33m\u001b[0m\u001b[1;33m\u001b[0m\u001b[0m\n\u001b[1;32m-> 2021\u001b[1;33m     \u001b[1;32mreturn\u001b[0m \u001b[0mnll_loss\u001b[0m\u001b[1;33m(\u001b[0m\u001b[0mlog_softmax\u001b[0m\u001b[1;33m(\u001b[0m\u001b[0minput\u001b[0m\u001b[1;33m,\u001b[0m \u001b[1;36m1\u001b[0m\u001b[1;33m)\u001b[0m\u001b[1;33m,\u001b[0m \u001b[0mtarget\u001b[0m\u001b[1;33m,\u001b[0m \u001b[0mweight\u001b[0m\u001b[1;33m,\u001b[0m \u001b[1;32mNone\u001b[0m\u001b[1;33m,\u001b[0m \u001b[0mignore_index\u001b[0m\u001b[1;33m,\u001b[0m \u001b[1;32mNone\u001b[0m\u001b[1;33m,\u001b[0m \u001b[0mreduction\u001b[0m\u001b[1;33m)\u001b[0m\u001b[1;33m\u001b[0m\u001b[1;33m\u001b[0m\u001b[0m\n\u001b[0m\u001b[0;32m   2022\u001b[0m \u001b[1;33m\u001b[0m\u001b[0m\n\u001b[0;32m   2023\u001b[0m \u001b[1;33m\u001b[0m\u001b[0m\n",
      "\u001b[1;32m~\\anaconda3\\envs\\marcusEnv\\lib\\site-packages\\torch\\nn\\functional.py\u001b[0m in \u001b[0;36mnll_loss\u001b[1;34m(input, target, weight, size_average, ignore_index, reduce, reduction)\u001b[0m\n\u001b[0;32m   1836\u001b[0m                          .format(input.size(0), target.size(0)))\n\u001b[0;32m   1837\u001b[0m     \u001b[1;32mif\u001b[0m \u001b[0mdim\u001b[0m \u001b[1;33m==\u001b[0m \u001b[1;36m2\u001b[0m\u001b[1;33m:\u001b[0m\u001b[1;33m\u001b[0m\u001b[1;33m\u001b[0m\u001b[0m\n\u001b[1;32m-> 1838\u001b[1;33m         \u001b[0mret\u001b[0m \u001b[1;33m=\u001b[0m \u001b[0mtorch\u001b[0m\u001b[1;33m.\u001b[0m\u001b[0m_C\u001b[0m\u001b[1;33m.\u001b[0m\u001b[0m_nn\u001b[0m\u001b[1;33m.\u001b[0m\u001b[0mnll_loss\u001b[0m\u001b[1;33m(\u001b[0m\u001b[0minput\u001b[0m\u001b[1;33m,\u001b[0m \u001b[0mtarget\u001b[0m\u001b[1;33m,\u001b[0m \u001b[0mweight\u001b[0m\u001b[1;33m,\u001b[0m \u001b[0m_Reduction\u001b[0m\u001b[1;33m.\u001b[0m\u001b[0mget_enum\u001b[0m\u001b[1;33m(\u001b[0m\u001b[0mreduction\u001b[0m\u001b[1;33m)\u001b[0m\u001b[1;33m,\u001b[0m \u001b[0mignore_index\u001b[0m\u001b[1;33m)\u001b[0m\u001b[1;33m\u001b[0m\u001b[1;33m\u001b[0m\u001b[0m\n\u001b[0m\u001b[0;32m   1839\u001b[0m     \u001b[1;32melif\u001b[0m \u001b[0mdim\u001b[0m \u001b[1;33m==\u001b[0m \u001b[1;36m4\u001b[0m\u001b[1;33m:\u001b[0m\u001b[1;33m\u001b[0m\u001b[1;33m\u001b[0m\u001b[0m\n\u001b[0;32m   1840\u001b[0m         \u001b[0mret\u001b[0m \u001b[1;33m=\u001b[0m \u001b[0mtorch\u001b[0m\u001b[1;33m.\u001b[0m\u001b[0m_C\u001b[0m\u001b[1;33m.\u001b[0m\u001b[0m_nn\u001b[0m\u001b[1;33m.\u001b[0m\u001b[0mnll_loss2d\u001b[0m\u001b[1;33m(\u001b[0m\u001b[0minput\u001b[0m\u001b[1;33m,\u001b[0m \u001b[0mtarget\u001b[0m\u001b[1;33m,\u001b[0m \u001b[0mweight\u001b[0m\u001b[1;33m,\u001b[0m \u001b[0m_Reduction\u001b[0m\u001b[1;33m.\u001b[0m\u001b[0mget_enum\u001b[0m\u001b[1;33m(\u001b[0m\u001b[0mreduction\u001b[0m\u001b[1;33m)\u001b[0m\u001b[1;33m,\u001b[0m \u001b[0mignore_index\u001b[0m\u001b[1;33m)\u001b[0m\u001b[1;33m\u001b[0m\u001b[1;33m\u001b[0m\u001b[0m\n",
      "\u001b[1;31mRuntimeError\u001b[0m: 1D target tensor expected, multi-target not supported"
     ]
    }
   ],
   "source": [
    "LOSS = []\n",
    "loss = train_model(500, LOSS)"
   ]
  },
  {
   "cell_type": "code",
   "execution_count": null,
   "id": "competitive-external",
   "metadata": {},
   "outputs": [],
   "source": []
  },
  {
   "cell_type": "code",
   "execution_count": null,
   "id": "legislative-painting",
   "metadata": {},
   "outputs": [],
   "source": []
  }
 ],
 "metadata": {
  "kernelspec": {
   "display_name": "Python 3",
   "language": "python",
   "name": "python3"
  },
  "language_info": {
   "codemirror_mode": {
    "name": "ipython",
    "version": 3
   },
   "file_extension": ".py",
   "mimetype": "text/x-python",
   "name": "python",
   "nbconvert_exporter": "python",
   "pygments_lexer": "ipython3",
   "version": "3.8.5"
  }
 },
 "nbformat": 4,
 "nbformat_minor": 5
}
