{
 "cells": [
  {
   "cell_type": "code",
   "execution_count": 1,
   "id": "awful-nerve",
   "metadata": {},
   "outputs": [],
   "source": [
    "import torch\n",
    "import pandas as pd\n",
    "import numpy as np\n",
    "import matplotlib.pyplot as plt\n",
    "from torch import nn,optim\n",
    "from mpl_toolkits.mplot3d import Axes3D\n",
    "from torch.utils.data import Dataset, DataLoader\n",
    "import torchvision.transforms as transforms\n",
    "from sklearn.model_selection import train_test_split"
   ]
  },
  {
   "cell_type": "code",
   "execution_count": 2,
   "id": "biblical-evolution",
   "metadata": {},
   "outputs": [
    {
     "data": {
      "text/plain": [
       "<torch._C.Generator at 0x1caba6a3f70>"
      ]
     },
     "execution_count": 2,
     "metadata": {},
     "output_type": "execute_result"
    }
   ],
   "source": [
    "torch.manual_seed(1)"
   ]
  },
  {
   "cell_type": "code",
   "execution_count": 3,
   "id": "square-universal",
   "metadata": {},
   "outputs": [
    {
     "name": "stdout",
     "output_type": "stream",
     "text": [
      "C:\\Users\\Marcus\\Desktop\\python\\alf_sports_betting_predictor\\data\n"
     ]
    }
   ],
   "source": [
    "cd C:\\Users\\Marcus\\Desktop\\python\\alf_sports_betting_predictor\\data"
   ]
  },
  {
   "cell_type": "code",
   "execution_count": 4,
   "id": "regional-dairy",
   "metadata": {},
   "outputs": [],
   "source": [
    "df = pd.read_csv('20210317 AFL_2020_stats_win_loss_normalised.csv')"
   ]
  },
  {
   "cell_type": "code",
   "execution_count": 5,
   "id": "metric-jenny",
   "metadata": {},
   "outputs": [
    {
     "name": "stdout",
     "output_type": "stream",
     "text": [
      "<class 'pandas.core.frame.DataFrame'>\n",
      "RangeIndex: 153 entries, 0 to 152\n",
      "Data columns (total 10 columns):\n",
      " #   Column                              Non-Null Count  Dtype  \n",
      "---  ------                              --------------  -----  \n",
      " 0   kicks_home_team                     153 non-null    float64\n",
      " 1   one-percenters_home_team            153 non-null    float64\n",
      " 2   kicks_away_team                     153 non-null    float64\n",
      " 3   one-percenters_away_team            153 non-null    float64\n",
      " 4   home_win_lose                       153 non-null    int64  \n",
      " 5   away_win_lose                       153 non-null    int64  \n",
      " 6   kicks_home_team_normalise           153 non-null    float64\n",
      " 7   one-percenters_home_team_normalise  153 non-null    float64\n",
      " 8   kicks_away_team_normalise           153 non-null    float64\n",
      " 9   one-percenters_away_team_normalise  153 non-null    float64\n",
      "dtypes: float64(8), int64(2)\n",
      "memory usage: 12.1 KB\n"
     ]
    }
   ],
   "source": [
    "df.info()"
   ]
  },
  {
   "cell_type": "code",
   "execution_count": 6,
   "id": "referenced-prior",
   "metadata": {},
   "outputs": [
    {
     "data": {
      "text/html": [
       "<div>\n",
       "<style scoped>\n",
       "    .dataframe tbody tr th:only-of-type {\n",
       "        vertical-align: middle;\n",
       "    }\n",
       "\n",
       "    .dataframe tbody tr th {\n",
       "        vertical-align: top;\n",
       "    }\n",
       "\n",
       "    .dataframe thead th {\n",
       "        text-align: right;\n",
       "    }\n",
       "</style>\n",
       "<table border=\"1\" class=\"dataframe\">\n",
       "  <thead>\n",
       "    <tr style=\"text-align: right;\">\n",
       "      <th></th>\n",
       "      <th>kicks_home_team</th>\n",
       "      <th>one-percenters_home_team</th>\n",
       "      <th>kicks_away_team</th>\n",
       "      <th>one-percenters_away_team</th>\n",
       "      <th>home_win_lose</th>\n",
       "      <th>away_win_lose</th>\n",
       "      <th>kicks_home_team_normalise</th>\n",
       "      <th>one-percenters_home_team_normalise</th>\n",
       "      <th>kicks_away_team_normalise</th>\n",
       "      <th>one-percenters_away_team_normalise</th>\n",
       "    </tr>\n",
       "  </thead>\n",
       "  <tbody>\n",
       "    <tr>\n",
       "      <th>kicks_home_team</th>\n",
       "      <td>1.000000</td>\n",
       "      <td>0.818009</td>\n",
       "      <td>-0.058689</td>\n",
       "      <td>-0.013512</td>\n",
       "      <td>0.396426</td>\n",
       "      <td>-0.397543</td>\n",
       "      <td>1.000000</td>\n",
       "      <td>0.818009</td>\n",
       "      <td>-0.058689</td>\n",
       "      <td>-0.013512</td>\n",
       "    </tr>\n",
       "    <tr>\n",
       "      <th>one-percenters_home_team</th>\n",
       "      <td>0.818009</td>\n",
       "      <td>1.000000</td>\n",
       "      <td>-0.081458</td>\n",
       "      <td>-0.058843</td>\n",
       "      <td>0.461639</td>\n",
       "      <td>-0.457679</td>\n",
       "      <td>0.818009</td>\n",
       "      <td>1.000000</td>\n",
       "      <td>-0.081458</td>\n",
       "      <td>-0.058843</td>\n",
       "    </tr>\n",
       "    <tr>\n",
       "      <th>kicks_away_team</th>\n",
       "      <td>-0.058689</td>\n",
       "      <td>-0.081458</td>\n",
       "      <td>1.000000</td>\n",
       "      <td>0.805290</td>\n",
       "      <td>-0.269043</td>\n",
       "      <td>0.263346</td>\n",
       "      <td>-0.058689</td>\n",
       "      <td>-0.081458</td>\n",
       "      <td>1.000000</td>\n",
       "      <td>0.805290</td>\n",
       "    </tr>\n",
       "    <tr>\n",
       "      <th>one-percenters_away_team</th>\n",
       "      <td>-0.013512</td>\n",
       "      <td>-0.058843</td>\n",
       "      <td>0.805290</td>\n",
       "      <td>1.000000</td>\n",
       "      <td>-0.242352</td>\n",
       "      <td>0.237538</td>\n",
       "      <td>-0.013512</td>\n",
       "      <td>-0.058843</td>\n",
       "      <td>0.805290</td>\n",
       "      <td>1.000000</td>\n",
       "    </tr>\n",
       "    <tr>\n",
       "      <th>home_win_lose</th>\n",
       "      <td>0.396426</td>\n",
       "      <td>0.461639</td>\n",
       "      <td>-0.269043</td>\n",
       "      <td>-0.242352</td>\n",
       "      <td>1.000000</td>\n",
       "      <td>-0.973795</td>\n",
       "      <td>0.396426</td>\n",
       "      <td>0.461639</td>\n",
       "      <td>-0.269043</td>\n",
       "      <td>-0.242352</td>\n",
       "    </tr>\n",
       "    <tr>\n",
       "      <th>away_win_lose</th>\n",
       "      <td>-0.397543</td>\n",
       "      <td>-0.457679</td>\n",
       "      <td>0.263346</td>\n",
       "      <td>0.237538</td>\n",
       "      <td>-0.973795</td>\n",
       "      <td>1.000000</td>\n",
       "      <td>-0.397543</td>\n",
       "      <td>-0.457679</td>\n",
       "      <td>0.263346</td>\n",
       "      <td>0.237538</td>\n",
       "    </tr>\n",
       "    <tr>\n",
       "      <th>kicks_home_team_normalise</th>\n",
       "      <td>1.000000</td>\n",
       "      <td>0.818009</td>\n",
       "      <td>-0.058689</td>\n",
       "      <td>-0.013512</td>\n",
       "      <td>0.396426</td>\n",
       "      <td>-0.397543</td>\n",
       "      <td>1.000000</td>\n",
       "      <td>0.818009</td>\n",
       "      <td>-0.058689</td>\n",
       "      <td>-0.013512</td>\n",
       "    </tr>\n",
       "    <tr>\n",
       "      <th>one-percenters_home_team_normalise</th>\n",
       "      <td>0.818009</td>\n",
       "      <td>1.000000</td>\n",
       "      <td>-0.081458</td>\n",
       "      <td>-0.058843</td>\n",
       "      <td>0.461639</td>\n",
       "      <td>-0.457679</td>\n",
       "      <td>0.818009</td>\n",
       "      <td>1.000000</td>\n",
       "      <td>-0.081458</td>\n",
       "      <td>-0.058843</td>\n",
       "    </tr>\n",
       "    <tr>\n",
       "      <th>kicks_away_team_normalise</th>\n",
       "      <td>-0.058689</td>\n",
       "      <td>-0.081458</td>\n",
       "      <td>1.000000</td>\n",
       "      <td>0.805290</td>\n",
       "      <td>-0.269043</td>\n",
       "      <td>0.263346</td>\n",
       "      <td>-0.058689</td>\n",
       "      <td>-0.081458</td>\n",
       "      <td>1.000000</td>\n",
       "      <td>0.805290</td>\n",
       "    </tr>\n",
       "    <tr>\n",
       "      <th>one-percenters_away_team_normalise</th>\n",
       "      <td>-0.013512</td>\n",
       "      <td>-0.058843</td>\n",
       "      <td>0.805290</td>\n",
       "      <td>1.000000</td>\n",
       "      <td>-0.242352</td>\n",
       "      <td>0.237538</td>\n",
       "      <td>-0.013512</td>\n",
       "      <td>-0.058843</td>\n",
       "      <td>0.805290</td>\n",
       "      <td>1.000000</td>\n",
       "    </tr>\n",
       "  </tbody>\n",
       "</table>\n",
       "</div>"
      ],
      "text/plain": [
       "                                    kicks_home_team  one-percenters_home_team  \\\n",
       "kicks_home_team                            1.000000                  0.818009   \n",
       "one-percenters_home_team                   0.818009                  1.000000   \n",
       "kicks_away_team                           -0.058689                 -0.081458   \n",
       "one-percenters_away_team                  -0.013512                 -0.058843   \n",
       "home_win_lose                              0.396426                  0.461639   \n",
       "away_win_lose                             -0.397543                 -0.457679   \n",
       "kicks_home_team_normalise                  1.000000                  0.818009   \n",
       "one-percenters_home_team_normalise         0.818009                  1.000000   \n",
       "kicks_away_team_normalise                 -0.058689                 -0.081458   \n",
       "one-percenters_away_team_normalise        -0.013512                 -0.058843   \n",
       "\n",
       "                                    kicks_away_team  one-percenters_away_team  \\\n",
       "kicks_home_team                           -0.058689                 -0.013512   \n",
       "one-percenters_home_team                  -0.081458                 -0.058843   \n",
       "kicks_away_team                            1.000000                  0.805290   \n",
       "one-percenters_away_team                   0.805290                  1.000000   \n",
       "home_win_lose                             -0.269043                 -0.242352   \n",
       "away_win_lose                              0.263346                  0.237538   \n",
       "kicks_home_team_normalise                 -0.058689                 -0.013512   \n",
       "one-percenters_home_team_normalise        -0.081458                 -0.058843   \n",
       "kicks_away_team_normalise                  1.000000                  0.805290   \n",
       "one-percenters_away_team_normalise         0.805290                  1.000000   \n",
       "\n",
       "                                    home_win_lose  away_win_lose  \\\n",
       "kicks_home_team                          0.396426      -0.397543   \n",
       "one-percenters_home_team                 0.461639      -0.457679   \n",
       "kicks_away_team                         -0.269043       0.263346   \n",
       "one-percenters_away_team                -0.242352       0.237538   \n",
       "home_win_lose                            1.000000      -0.973795   \n",
       "away_win_lose                           -0.973795       1.000000   \n",
       "kicks_home_team_normalise                0.396426      -0.397543   \n",
       "one-percenters_home_team_normalise       0.461639      -0.457679   \n",
       "kicks_away_team_normalise               -0.269043       0.263346   \n",
       "one-percenters_away_team_normalise      -0.242352       0.237538   \n",
       "\n",
       "                                    kicks_home_team_normalise  \\\n",
       "kicks_home_team                                      1.000000   \n",
       "one-percenters_home_team                             0.818009   \n",
       "kicks_away_team                                     -0.058689   \n",
       "one-percenters_away_team                            -0.013512   \n",
       "home_win_lose                                        0.396426   \n",
       "away_win_lose                                       -0.397543   \n",
       "kicks_home_team_normalise                            1.000000   \n",
       "one-percenters_home_team_normalise                   0.818009   \n",
       "kicks_away_team_normalise                           -0.058689   \n",
       "one-percenters_away_team_normalise                  -0.013512   \n",
       "\n",
       "                                    one-percenters_home_team_normalise  \\\n",
       "kicks_home_team                                               0.818009   \n",
       "one-percenters_home_team                                      1.000000   \n",
       "kicks_away_team                                              -0.081458   \n",
       "one-percenters_away_team                                     -0.058843   \n",
       "home_win_lose                                                 0.461639   \n",
       "away_win_lose                                                -0.457679   \n",
       "kicks_home_team_normalise                                     0.818009   \n",
       "one-percenters_home_team_normalise                            1.000000   \n",
       "kicks_away_team_normalise                                    -0.081458   \n",
       "one-percenters_away_team_normalise                           -0.058843   \n",
       "\n",
       "                                    kicks_away_team_normalise  \\\n",
       "kicks_home_team                                     -0.058689   \n",
       "one-percenters_home_team                            -0.081458   \n",
       "kicks_away_team                                      1.000000   \n",
       "one-percenters_away_team                             0.805290   \n",
       "home_win_lose                                       -0.269043   \n",
       "away_win_lose                                        0.263346   \n",
       "kicks_home_team_normalise                           -0.058689   \n",
       "one-percenters_home_team_normalise                  -0.081458   \n",
       "kicks_away_team_normalise                            1.000000   \n",
       "one-percenters_away_team_normalise                   0.805290   \n",
       "\n",
       "                                    one-percenters_away_team_normalise  \n",
       "kicks_home_team                                              -0.013512  \n",
       "one-percenters_home_team                                     -0.058843  \n",
       "kicks_away_team                                               0.805290  \n",
       "one-percenters_away_team                                      1.000000  \n",
       "home_win_lose                                                -0.242352  \n",
       "away_win_lose                                                 0.237538  \n",
       "kicks_home_team_normalise                                    -0.013512  \n",
       "one-percenters_home_team_normalise                           -0.058843  \n",
       "kicks_away_team_normalise                                     0.805290  \n",
       "one-percenters_away_team_normalise                            1.000000  "
      ]
     },
     "execution_count": 6,
     "metadata": {},
     "output_type": "execute_result"
    }
   ],
   "source": [
    "df.corr()"
   ]
  },
  {
   "cell_type": "code",
   "execution_count": 7,
   "id": "afraid-danish",
   "metadata": {},
   "outputs": [],
   "source": [
    "def remove_zeroes_from_dataset(df, column):\n",
    "    mask = df[column] != 0.0\n",
    "    df = df.loc[mask]\n",
    "    return df "
   ]
  },
  {
   "cell_type": "code",
   "execution_count": 8,
   "id": "planned-season",
   "metadata": {},
   "outputs": [],
   "source": [
    "#df = remove_zeroes_from_dataset(df, 'bathrooms')"
   ]
  },
  {
   "cell_type": "code",
   "execution_count": 9,
   "id": "assumed-dutch",
   "metadata": {},
   "outputs": [
    {
     "data": {
      "text/plain": [
       "Index(['kicks_home_team', 'one-percenters_home_team', 'kicks_away_team',\n",
       "       'one-percenters_away_team', 'home_win_lose', 'away_win_lose',\n",
       "       'kicks_home_team_normalise', 'one-percenters_home_team_normalise',\n",
       "       'kicks_away_team_normalise', 'one-percenters_away_team_normalise'],\n",
       "      dtype='object')"
      ]
     },
     "execution_count": 9,
     "metadata": {},
     "output_type": "execute_result"
    }
   ],
   "source": [
    "df.columns"
   ]
  },
  {
   "cell_type": "code",
   "execution_count": 10,
   "id": "bright-convertible",
   "metadata": {},
   "outputs": [],
   "source": [
    "train, test = train_test_split(df[[df.columns[4], df.columns[5], df.columns[6], df.columns[7], df.columns[8], df.columns[9]]], test_size=0.2)"
   ]
  },
  {
   "cell_type": "code",
   "execution_count": 11,
   "id": "velvet-polls",
   "metadata": {},
   "outputs": [],
   "source": [
    "from torch.utils.data import Dataset, DataLoader\n",
    "class Data(Dataset):\n",
    "    def __init__(self, df_rows_size, df_columns_size, output_size):\n",
    "            self.x=torch.zeros(df_rows_size, df_columns_size)\n",
    "            self.y=torch.zeros(df_rows_size, output_size)\n",
    "            self.len= df_rows_size\n",
    "\n",
    "    def __getitem__(self,index):\n",
    "\n",
    "        return self.x[index],self.y[index]\n",
    "    \n",
    "    def __len__(self):\n",
    "        return self.len"
   ]
  },
  {
   "cell_type": "code",
   "execution_count": 12,
   "id": "postal-assembly",
   "metadata": {},
   "outputs": [],
   "source": [
    "# making dataset and filling the x and y values with the data tensors we need \n",
    "# rows: size of dataset set \n",
    "#columns: 4\n",
    "dataset_train =Data(train.shape[0], 4, 2)\n",
    "dataset_test =Data(test.shape[0], 4, 2)\n"
   ]
  },
  {
   "cell_type": "code",
   "execution_count": 13,
   "id": "double-pastor",
   "metadata": {},
   "outputs": [
    {
     "data": {
      "text/plain": [
       "Index(['home_win_lose', 'away_win_lose', 'kicks_home_team_normalise',\n",
       "       'one-percenters_home_team_normalise', 'kicks_away_team_normalise',\n",
       "       'one-percenters_away_team_normalise'],\n",
       "      dtype='object')"
      ]
     },
     "execution_count": 13,
     "metadata": {},
     "output_type": "execute_result"
    }
   ],
   "source": [
    "train.columns"
   ]
  },
  {
   "cell_type": "code",
   "execution_count": 14,
   "id": "superb-nothing",
   "metadata": {},
   "outputs": [],
   "source": [
    "# making dataset and filling the x and y values with the data tensors we need \n",
    "# rows: size of dataset set \n",
    "#columns: 4\n",
    "dataset_train =Data(train.shape[0], 4, 2)\n",
    "dataset_test =Data(test.shape[0], 4, 2)\n",
    "\n",
    "# convert dataframe columns to tensors \n",
    "x_feature_1 = torch.FloatTensor(train['kicks_home_team_normalise'].to_list())\n",
    "x_feature_2 = torch.FloatTensor(train['one-percenters_home_team_normalise'].to_list())\n",
    "x_feature_3 = torch.FloatTensor(train['kicks_away_team_normalise'].to_list())\n",
    "x_feature_4 = torch.FloatTensor(train['one-percenters_away_team_normalise'].to_list())\n",
    "y_feature_1 = torch.FloatTensor(train['home_win_lose'].to_list())\n",
    "y_feature_2 = torch.FloatTensor(train['away_win_lose'].to_list())\n",
    "\n",
    "# set tensor columns \n",
    "dataset_train.x[:, 0] = x_feature_1\n",
    "dataset_train.x[:, 1] = x_feature_2\n",
    "dataset_train.x[:, 2] = x_feature_3\n",
    "dataset_train.x[:, 3] = x_feature_4\n",
    "dataset_train.y[:, 0] = y_feature_1\n",
    "dataset_train.y[:, 1] = y_feature_1\n",
    "\n",
    "# convert dataframe columns to tensors \n",
    "x_feature_1 = torch.FloatTensor(test['kicks_home_team_normalise'].to_list())\n",
    "x_feature_2 = torch.FloatTensor(test['one-percenters_home_team_normalise'].to_list())\n",
    "x_feature_3 = torch.FloatTensor(test['kicks_away_team_normalise'].to_list())\n",
    "x_feature_4 = torch.FloatTensor(test['one-percenters_away_team_normalise'].to_list())\n",
    "y_feature_1 = torch.FloatTensor(test['home_win_lose'].to_list())\n",
    "y_feature_2 = torch.FloatTensor(test['away_win_lose'].to_list())\n",
    "\n",
    "# set tensor columns \n",
    "dataset_test.x[:, 0] = x_feature_1\n",
    "dataset_test.x[:, 1] = x_feature_2\n",
    "dataset_test.x[:, 2] = x_feature_3\n",
    "dataset_test.x[:, 3] = x_feature_4\n",
    "dataset_test.y[:, 0] = y_feature_1\n",
    "dataset_test.y[:, 1] = y_feature_2\n",
    "\n",
    "# create dataloader which loads the dataset for training \n",
    "# set batch size if batches are needed \n",
    "train_loader=DataLoader(dataset=dataset_train ,batch_size=150)\n",
    "test_loader=DataLoader(dataset=dataset_train ,batch_size=150)"
   ]
  },
  {
   "cell_type": "code",
   "execution_count": 15,
   "id": "indian-freeware",
   "metadata": {},
   "outputs": [],
   "source": [
    "class logistic_regression(nn.Module):\n",
    "    def __init__(self,input_size,output_size):\n",
    "        super(logistic_regression,self).__init__()\n",
    "        self.linear=nn.Linear(input_size,output_size)\n",
    "        \n",
    "    def forward(self,x):\n",
    "        yhat=torch.sigmoid(self.linear(x))\n",
    "        return yhat"
   ]
  },
  {
   "cell_type": "code",
   "execution_count": 35,
   "id": "blind-bahrain",
   "metadata": {},
   "outputs": [],
   "source": [
    "# Create dataloader object, crierion function and optimizer.\n",
    "model = logistic_regression(4, 2)\n",
    "trainloader = DataLoader(dataset=dataset_train, batch_size=10)\n",
    "criterion_rms = nn.MSELoss()\n",
    "#criterion = nn.CrossEntropyLoss()\n",
    "learning_rate = .1\n",
    "optimizer = torch.optim.SGD(model.parameters(), lr=learning_rate, momentum=.6)"
   ]
  },
  {
   "cell_type": "code",
   "execution_count": 36,
   "id": "assumed-salad",
   "metadata": {},
   "outputs": [],
   "source": [
    "def train_model(epochs, LOSS):\n",
    "    for epoch in range(epochs):\n",
    "        yhat = model(dataset_train.x)\n",
    "        loss = criterion_rms(yhat, dataset_train.y)\n",
    "        LOSS.append(loss.item())\n",
    "        optimizer.zero_grad()\n",
    "        loss.backward()\n",
    "        optimizer.step()\n",
    "    return LOSS"
   ]
  },
  {
   "cell_type": "code",
   "execution_count": 37,
   "id": "unknown-stamp",
   "metadata": {},
   "outputs": [],
   "source": [
    "LOSS = []\n",
    "loss = train_model(2500, LOSS)"
   ]
  },
  {
   "cell_type": "code",
   "execution_count": 38,
   "id": "infrared-lease",
   "metadata": {},
   "outputs": [
    {
     "data": {
      "text/plain": [
       "[<matplotlib.lines.Line2D at 0x1cac36d1100>]"
      ]
     },
     "execution_count": 38,
     "metadata": {},
     "output_type": "execute_result"
    },
    {
     "data": {
      "image/png": "[encoded data removed]",
      "text/plain": [
       "<Figure size 432x288 with 1 Axes>"
      ]
     },
     "metadata": {
      "needs_background": "light"
     },
     "output_type": "display_data"
    }
   ],
   "source": [
    "plt.plot(loss)"
   ]
  },
  {
   "cell_type": "code",
   "execution_count": null,
   "id": "powered-faith",
   "metadata": {},
   "outputs": [],
   "source": []
  }
 ],
 "metadata": {
  "kernelspec": {
   "display_name": "Python 3",
   "language": "python",
   "name": "python3"
  },
  "language_info": {
   "codemirror_mode": {
    "name": "ipython",
    "version": 3
   },
   "file_extension": ".py",
   "mimetype": "text/x-python",
   "name": "python",
   "nbconvert_exporter": "python",
   "pygments_lexer": "ipython3",
   "version": "3.8.5"
  }
 },
 "nbformat": 4,
 "nbformat_minor": 5
}
