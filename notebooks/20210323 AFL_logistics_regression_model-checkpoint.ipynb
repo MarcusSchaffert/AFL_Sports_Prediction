{
 "cells": [
  {
   "cell_type": "code",
   "execution_count": 1,
   "metadata": {},
   "outputs": [],
   "source": [
    "import torch\n",
    "import pandas as pd\n",
    "import numpy as np\n",
    "import matplotlib.pyplot as plt\n",
    "from torch import nn,optim\n",
    "from mpl_toolkits.mplot3d import Axes3D\n",
    "from torch.utils.data import Dataset, DataLoader\n",
    "import torchvision.transforms as transforms\n",
    "from sklearn.model_selection import train_test_split\n",
    "import torch.nn.functional as F"
   ]
  },
  {
   "cell_type": "code",
   "execution_count": 2,
   "metadata": {},
   "outputs": [
    {
     "data": {
      "text/plain": [
       "<torch._C.Generator at 0x16fe53e87b0>"
      ]
     },
     "execution_count": 2,
     "metadata": {},
     "output_type": "execute_result"
    }
   ],
   "source": [
    "torch.manual_seed(1)"
   ]
  },
  {
   "cell_type": "code",
   "execution_count": 3,
   "metadata": {},
   "outputs": [
    {
     "name": "stdout",
     "output_type": "stream",
     "text": [
      "C:\\Users\\Marcus\\Desktop\\python\\alf_sports_betting_predictor\\data\n"
     ]
    }
   ],
   "source": [
    "cd C:\\Users\\Marcus\\Desktop\\python\\alf_sports_betting_predictor\\data"
   ]
  },
  {
   "cell_type": "code",
   "execution_count": 4,
   "metadata": {},
   "outputs": [],
   "source": [
    "df = pd.read_csv('20210317 AFL_2020_stats_win_loss_normalised.csv')"
   ]
  },
  {
   "cell_type": "code",
   "execution_count": 5,
   "metadata": {},
   "outputs": [
    {
     "name": "stdout",
     "output_type": "stream",
     "text": [
      "<class 'pandas.core.frame.DataFrame'>\n",
      "RangeIndex: 153 entries, 0 to 152\n",
      "Data columns (total 10 columns):\n",
      " #   Column                              Non-Null Count  Dtype  \n",
      "---  ------                              --------------  -----  \n",
      " 0   kicks_home_team                     153 non-null    float64\n",
      " 1   one-percenters_home_team            153 non-null    float64\n",
      " 2   kicks_away_team                     153 non-null    float64\n",
      " 3   one-percenters_away_team            153 non-null    float64\n",
      " 4   home_win_lose                       153 non-null    int64  \n",
      " 5   away_win_lose                       153 non-null    int64  \n",
      " 6   kicks_home_team_normalise           153 non-null    float64\n",
      " 7   one-percenters_home_team_normalise  153 non-null    float64\n",
      " 8   kicks_away_team_normalise           153 non-null    float64\n",
      " 9   one-percenters_away_team_normalise  153 non-null    float64\n",
      "dtypes: float64(8), int64(2)\n",
      "memory usage: 12.1 KB\n"
     ]
    }
   ],
   "source": [
    "df.info()"
   ]
  },
  {
   "cell_type": "code",
   "execution_count": 7,
   "metadata": {},
   "outputs": [
    {
     "data": {
      "text/html": [
       "<div>\n",
       "<style scoped>\n",
       "    .dataframe tbody tr th:only-of-type {\n",
       "        vertical-align: middle;\n",
       "    }\n",
       "\n",
       "    .dataframe tbody tr th {\n",
       "        vertical-align: top;\n",
       "    }\n",
       "\n",
       "    .dataframe thead th {\n",
       "        text-align: right;\n",
       "    }\n",
       "</style>\n",
       "<table border=\"1\" class=\"dataframe\">\n",
       "  <thead>\n",
       "    <tr style=\"text-align: right;\">\n",
       "      <th></th>\n",
       "      <th>kicks_home_team</th>\n",
       "      <th>one-percenters_home_team</th>\n",
       "      <th>kicks_away_team</th>\n",
       "      <th>one-percenters_away_team</th>\n",
       "      <th>home_win_lose</th>\n",
       "      <th>away_win_lose</th>\n",
       "      <th>kicks_home_team_normalise</th>\n",
       "      <th>one-percenters_home_team_normalise</th>\n",
       "      <th>kicks_away_team_normalise</th>\n",
       "      <th>one-percenters_away_team_normalise</th>\n",
       "    </tr>\n",
       "  </thead>\n",
       "  <tbody>\n",
       "    <tr>\n",
       "      <th>kicks_home_team</th>\n",
       "      <td>1.000000</td>\n",
       "      <td>0.818009</td>\n",
       "      <td>-0.058689</td>\n",
       "      <td>-0.013512</td>\n",
       "      <td>0.396426</td>\n",
       "      <td>-0.397543</td>\n",
       "      <td>1.000000</td>\n",
       "      <td>0.818009</td>\n",
       "      <td>-0.058689</td>\n",
       "      <td>-0.013512</td>\n",
       "    </tr>\n",
       "    <tr>\n",
       "      <th>one-percenters_home_team</th>\n",
       "      <td>0.818009</td>\n",
       "      <td>1.000000</td>\n",
       "      <td>-0.081458</td>\n",
       "      <td>-0.058843</td>\n",
       "      <td>0.461639</td>\n",
       "      <td>-0.457679</td>\n",
       "      <td>0.818009</td>\n",
       "      <td>1.000000</td>\n",
       "      <td>-0.081458</td>\n",
       "      <td>-0.058843</td>\n",
       "    </tr>\n",
       "    <tr>\n",
       "      <th>kicks_away_team</th>\n",
       "      <td>-0.058689</td>\n",
       "      <td>-0.081458</td>\n",
       "      <td>1.000000</td>\n",
       "      <td>0.805290</td>\n",
       "      <td>-0.269043</td>\n",
       "      <td>0.263346</td>\n",
       "      <td>-0.058689</td>\n",
       "      <td>-0.081458</td>\n",
       "      <td>1.000000</td>\n",
       "      <td>0.805290</td>\n",
       "    </tr>\n",
       "    <tr>\n",
       "      <th>one-percenters_away_team</th>\n",
       "      <td>-0.013512</td>\n",
       "      <td>-0.058843</td>\n",
       "      <td>0.805290</td>\n",
       "      <td>1.000000</td>\n",
       "      <td>-0.242352</td>\n",
       "      <td>0.237538</td>\n",
       "      <td>-0.013512</td>\n",
       "      <td>-0.058843</td>\n",
       "      <td>0.805290</td>\n",
       "      <td>1.000000</td>\n",
       "    </tr>\n",
       "    <tr>\n",
       "      <th>home_win_lose</th>\n",
       "      <td>0.396426</td>\n",
       "      <td>0.461639</td>\n",
       "      <td>-0.269043</td>\n",
       "      <td>-0.242352</td>\n",
       "      <td>1.000000</td>\n",
       "      <td>-0.973795</td>\n",
       "      <td>0.396426</td>\n",
       "      <td>0.461639</td>\n",
       "      <td>-0.269043</td>\n",
       "      <td>-0.242352</td>\n",
       "    </tr>\n",
       "    <tr>\n",
       "      <th>away_win_lose</th>\n",
       "      <td>-0.397543</td>\n",
       "      <td>-0.457679</td>\n",
       "      <td>0.263346</td>\n",
       "      <td>0.237538</td>\n",
       "      <td>-0.973795</td>\n",
       "      <td>1.000000</td>\n",
       "      <td>-0.397543</td>\n",
       "      <td>-0.457679</td>\n",
       "      <td>0.263346</td>\n",
       "      <td>0.237538</td>\n",
       "    </tr>\n",
       "    <tr>\n",
       "      <th>kicks_home_team_normalise</th>\n",
       "      <td>1.000000</td>\n",
       "      <td>0.818009</td>\n",
       "      <td>-0.058689</td>\n",
       "      <td>-0.013512</td>\n",
       "      <td>0.396426</td>\n",
       "      <td>-0.397543</td>\n",
       "      <td>1.000000</td>\n",
       "      <td>0.818009</td>\n",
       "      <td>-0.058689</td>\n",
       "      <td>-0.013512</td>\n",
       "    </tr>\n",
       "    <tr>\n",
       "      <th>one-percenters_home_team_normalise</th>\n",
       "      <td>0.818009</td>\n",
       "      <td>1.000000</td>\n",
       "      <td>-0.081458</td>\n",
       "      <td>-0.058843</td>\n",
       "      <td>0.461639</td>\n",
       "      <td>-0.457679</td>\n",
       "      <td>0.818009</td>\n",
       "      <td>1.000000</td>\n",
       "      <td>-0.081458</td>\n",
       "      <td>-0.058843</td>\n",
       "    </tr>\n",
       "    <tr>\n",
       "      <th>kicks_away_team_normalise</th>\n",
       "      <td>-0.058689</td>\n",
       "      <td>-0.081458</td>\n",
       "      <td>1.000000</td>\n",
       "      <td>0.805290</td>\n",
       "      <td>-0.269043</td>\n",
       "      <td>0.263346</td>\n",
       "      <td>-0.058689</td>\n",
       "      <td>-0.081458</td>\n",
       "      <td>1.000000</td>\n",
       "      <td>0.805290</td>\n",
       "    </tr>\n",
       "    <tr>\n",
       "      <th>one-percenters_away_team_normalise</th>\n",
       "      <td>-0.013512</td>\n",
       "      <td>-0.058843</td>\n",
       "      <td>0.805290</td>\n",
       "      <td>1.000000</td>\n",
       "      <td>-0.242352</td>\n",
       "      <td>0.237538</td>\n",
       "      <td>-0.013512</td>\n",
       "      <td>-0.058843</td>\n",
       "      <td>0.805290</td>\n",
       "      <td>1.000000</td>\n",
       "    </tr>\n",
       "  </tbody>\n",
       "</table>\n",
       "</div>"
      ],
      "text/plain": [
       "                                    kicks_home_team  one-percenters_home_team  \\\n",
       "kicks_home_team                            1.000000                  0.818009   \n",
       "one-percenters_home_team                   0.818009                  1.000000   \n",
       "kicks_away_team                           -0.058689                 -0.081458   \n",
       "one-percenters_away_team                  -0.013512                 -0.058843   \n",
       "home_win_lose                              0.396426                  0.461639   \n",
       "away_win_lose                             -0.397543                 -0.457679   \n",
       "kicks_home_team_normalise                  1.000000                  0.818009   \n",
       "one-percenters_home_team_normalise         0.818009                  1.000000   \n",
       "kicks_away_team_normalise                 -0.058689                 -0.081458   \n",
       "one-percenters_away_team_normalise        -0.013512                 -0.058843   \n",
       "\n",
       "                                    kicks_away_team  one-percenters_away_team  \\\n",
       "kicks_home_team                           -0.058689                 -0.013512   \n",
       "one-percenters_home_team                  -0.081458                 -0.058843   \n",
       "kicks_away_team                            1.000000                  0.805290   \n",
       "one-percenters_away_team                   0.805290                  1.000000   \n",
       "home_win_lose                             -0.269043                 -0.242352   \n",
       "away_win_lose                              0.263346                  0.237538   \n",
       "kicks_home_team_normalise                 -0.058689                 -0.013512   \n",
       "one-percenters_home_team_normalise        -0.081458                 -0.058843   \n",
       "kicks_away_team_normalise                  1.000000                  0.805290   \n",
       "one-percenters_away_team_normalise         0.805290                  1.000000   \n",
       "\n",
       "                                    home_win_lose  away_win_lose  \\\n",
       "kicks_home_team                          0.396426      -0.397543   \n",
       "one-percenters_home_team                 0.461639      -0.457679   \n",
       "kicks_away_team                         -0.269043       0.263346   \n",
       "one-percenters_away_team                -0.242352       0.237538   \n",
       "home_win_lose                            1.000000      -0.973795   \n",
       "away_win_lose                           -0.973795       1.000000   \n",
       "kicks_home_team_normalise                0.396426      -0.397543   \n",
       "one-percenters_home_team_normalise       0.461639      -0.457679   \n",
       "kicks_away_team_normalise               -0.269043       0.263346   \n",
       "one-percenters_away_team_normalise      -0.242352       0.237538   \n",
       "\n",
       "                                    kicks_home_team_normalise  \\\n",
       "kicks_home_team                                      1.000000   \n",
       "one-percenters_home_team                             0.818009   \n",
       "kicks_away_team                                     -0.058689   \n",
       "one-percenters_away_team                            -0.013512   \n",
       "home_win_lose                                        0.396426   \n",
       "away_win_lose                                       -0.397543   \n",
       "kicks_home_team_normalise                            1.000000   \n",
       "one-percenters_home_team_normalise                   0.818009   \n",
       "kicks_away_team_normalise                           -0.058689   \n",
       "one-percenters_away_team_normalise                  -0.013512   \n",
       "\n",
       "                                    one-percenters_home_team_normalise  \\\n",
       "kicks_home_team                                               0.818009   \n",
       "one-percenters_home_team                                      1.000000   \n",
       "kicks_away_team                                              -0.081458   \n",
       "one-percenters_away_team                                     -0.058843   \n",
       "home_win_lose                                                 0.461639   \n",
       "away_win_lose                                                -0.457679   \n",
       "kicks_home_team_normalise                                     0.818009   \n",
       "one-percenters_home_team_normalise                            1.000000   \n",
       "kicks_away_team_normalise                                    -0.081458   \n",
       "one-percenters_away_team_normalise                           -0.058843   \n",
       "\n",
       "                                    kicks_away_team_normalise  \\\n",
       "kicks_home_team                                     -0.058689   \n",
       "one-percenters_home_team                            -0.081458   \n",
       "kicks_away_team                                      1.000000   \n",
       "one-percenters_away_team                             0.805290   \n",
       "home_win_lose                                       -0.269043   \n",
       "away_win_lose                                        0.263346   \n",
       "kicks_home_team_normalise                           -0.058689   \n",
       "one-percenters_home_team_normalise                  -0.081458   \n",
       "kicks_away_team_normalise                            1.000000   \n",
       "one-percenters_away_team_normalise                   0.805290   \n",
       "\n",
       "                                    one-percenters_away_team_normalise  \n",
       "kicks_home_team                                              -0.013512  \n",
       "one-percenters_home_team                                     -0.058843  \n",
       "kicks_away_team                                               0.805290  \n",
       "one-percenters_away_team                                      1.000000  \n",
       "home_win_lose                                                -0.242352  \n",
       "away_win_lose                                                 0.237538  \n",
       "kicks_home_team_normalise                                    -0.013512  \n",
       "one-percenters_home_team_normalise                           -0.058843  \n",
       "kicks_away_team_normalise                                     0.805290  \n",
       "one-percenters_away_team_normalise                            1.000000  "
      ]
     },
     "execution_count": 7,
     "metadata": {},
     "output_type": "execute_result"
    }
   ],
   "source": [
    "df.corr()"
   ]
  },
  {
   "cell_type": "code",
   "execution_count": 8,
   "metadata": {},
   "outputs": [],
   "source": [
    "def remove_zeroes_from_dataset(df, column):\n",
    "    mask = df[column] != 0.0\n",
    "    df = df.loc[mask]\n",
    "    return df "
   ]
  },
  {
   "cell_type": "code",
   "execution_count": 9,
   "metadata": {},
   "outputs": [],
   "source": [
    "#df = remove_zeroes_from_dataset(df, 'bathrooms')"
   ]
  },
  {
   "cell_type": "code",
   "execution_count": 10,
   "metadata": {},
   "outputs": [
    {
     "data": {
      "text/plain": [
       "Index(['kicks_home_team', 'one-percenters_home_team', 'kicks_away_team',\n",
       "       'one-percenters_away_team', 'home_win_lose', 'away_win_lose',\n",
       "       'kicks_home_team_normalise', 'one-percenters_home_team_normalise',\n",
       "       'kicks_away_team_normalise', 'one-percenters_away_team_normalise'],\n",
       "      dtype='object')"
      ]
     },
     "execution_count": 10,
     "metadata": {},
     "output_type": "execute_result"
    }
   ],
   "source": [
    "df.columns"
   ]
  },
  {
   "cell_type": "code",
   "execution_count": 11,
   "metadata": {},
   "outputs": [
    {
     "data": {
      "text/html": [
       "<div>\n",
       "<style scoped>\n",
       "    .dataframe tbody tr th:only-of-type {\n",
       "        vertical-align: middle;\n",
       "    }\n",
       "\n",
       "    .dataframe tbody tr th {\n",
       "        vertical-align: top;\n",
       "    }\n",
       "\n",
       "    .dataframe thead th {\n",
       "        text-align: right;\n",
       "    }\n",
       "</style>\n",
       "<table border=\"1\" class=\"dataframe\">\n",
       "  <thead>\n",
       "    <tr style=\"text-align: right;\">\n",
       "      <th></th>\n",
       "      <th>kicks_home_team</th>\n",
       "      <th>one-percenters_home_team</th>\n",
       "      <th>kicks_away_team</th>\n",
       "      <th>one-percenters_away_team</th>\n",
       "      <th>home_win_lose</th>\n",
       "      <th>away_win_lose</th>\n",
       "      <th>kicks_home_team_normalise</th>\n",
       "      <th>one-percenters_home_team_normalise</th>\n",
       "      <th>kicks_away_team_normalise</th>\n",
       "      <th>one-percenters_away_team_normalise</th>\n",
       "    </tr>\n",
       "  </thead>\n",
       "  <tbody>\n",
       "    <tr>\n",
       "      <th>0</th>\n",
       "      <td>3587.0</td>\n",
       "      <td>862.0</td>\n",
       "      <td>3071.0</td>\n",
       "      <td>719.0</td>\n",
       "      <td>1</td>\n",
       "      <td>0</td>\n",
       "      <td>0.704183</td>\n",
       "      <td>0.863281</td>\n",
       "      <td>0.311787</td>\n",
       "      <td>0.304688</td>\n",
       "    </tr>\n",
       "    <tr>\n",
       "      <th>1</th>\n",
       "      <td>3007.0</td>\n",
       "      <td>793.0</td>\n",
       "      <td>3301.0</td>\n",
       "      <td>819.0</td>\n",
       "      <td>0</td>\n",
       "      <td>1</td>\n",
       "      <td>0.263118</td>\n",
       "      <td>0.593750</td>\n",
       "      <td>0.486692</td>\n",
       "      <td>0.695312</td>\n",
       "    </tr>\n",
       "    <tr>\n",
       "      <th>2</th>\n",
       "      <td>2854.0</td>\n",
       "      <td>708.0</td>\n",
       "      <td>2975.0</td>\n",
       "      <td>718.0</td>\n",
       "      <td>1</td>\n",
       "      <td>0</td>\n",
       "      <td>0.146768</td>\n",
       "      <td>0.261719</td>\n",
       "      <td>0.238783</td>\n",
       "      <td>0.300781</td>\n",
       "    </tr>\n",
       "    <tr>\n",
       "      <th>3</th>\n",
       "      <td>2661.0</td>\n",
       "      <td>641.0</td>\n",
       "      <td>2975.0</td>\n",
       "      <td>741.0</td>\n",
       "      <td>0</td>\n",
       "      <td>1</td>\n",
       "      <td>0.000000</td>\n",
       "      <td>0.000000</td>\n",
       "      <td>0.238783</td>\n",
       "      <td>0.390625</td>\n",
       "    </tr>\n",
       "    <tr>\n",
       "      <th>4</th>\n",
       "      <td>2990.0</td>\n",
       "      <td>685.0</td>\n",
       "      <td>3444.0</td>\n",
       "      <td>872.0</td>\n",
       "      <td>0</td>\n",
       "      <td>1</td>\n",
       "      <td>0.250190</td>\n",
       "      <td>0.171875</td>\n",
       "      <td>0.595437</td>\n",
       "      <td>0.902344</td>\n",
       "    </tr>\n",
       "    <tr>\n",
       "      <th>...</th>\n",
       "      <td>...</td>\n",
       "      <td>...</td>\n",
       "      <td>...</td>\n",
       "      <td>...</td>\n",
       "      <td>...</td>\n",
       "      <td>...</td>\n",
       "      <td>...</td>\n",
       "      <td>...</td>\n",
       "      <td>...</td>\n",
       "      <td>...</td>\n",
       "    </tr>\n",
       "    <tr>\n",
       "      <th>148</th>\n",
       "      <td>3444.0</td>\n",
       "      <td>801.0</td>\n",
       "      <td>3071.0</td>\n",
       "      <td>719.0</td>\n",
       "      <td>1</td>\n",
       "      <td>0</td>\n",
       "      <td>0.595437</td>\n",
       "      <td>0.625000</td>\n",
       "      <td>0.311787</td>\n",
       "      <td>0.304688</td>\n",
       "    </tr>\n",
       "    <tr>\n",
       "      <th>149</th>\n",
       "      <td>2794.0</td>\n",
       "      <td>758.0</td>\n",
       "      <td>2990.0</td>\n",
       "      <td>685.0</td>\n",
       "      <td>1</td>\n",
       "      <td>0</td>\n",
       "      <td>0.101141</td>\n",
       "      <td>0.457031</td>\n",
       "      <td>0.250190</td>\n",
       "      <td>0.171875</td>\n",
       "    </tr>\n",
       "    <tr>\n",
       "      <th>150</th>\n",
       "      <td>2975.0</td>\n",
       "      <td>741.0</td>\n",
       "      <td>3976.0</td>\n",
       "      <td>897.0</td>\n",
       "      <td>0</td>\n",
       "      <td>1</td>\n",
       "      <td>0.238783</td>\n",
       "      <td>0.390625</td>\n",
       "      <td>1.000000</td>\n",
       "      <td>1.000000</td>\n",
       "    </tr>\n",
       "    <tr>\n",
       "      <th>151</th>\n",
       "      <td>2975.0</td>\n",
       "      <td>718.0</td>\n",
       "      <td>3007.0</td>\n",
       "      <td>793.0</td>\n",
       "      <td>0</td>\n",
       "      <td>1</td>\n",
       "      <td>0.238783</td>\n",
       "      <td>0.300781</td>\n",
       "      <td>0.263118</td>\n",
       "      <td>0.593750</td>\n",
       "    </tr>\n",
       "    <tr>\n",
       "      <th>152</th>\n",
       "      <td>3301.0</td>\n",
       "      <td>819.0</td>\n",
       "      <td>3444.0</td>\n",
       "      <td>872.0</td>\n",
       "      <td>0</td>\n",
       "      <td>1</td>\n",
       "      <td>0.486692</td>\n",
       "      <td>0.695312</td>\n",
       "      <td>0.595437</td>\n",
       "      <td>0.902344</td>\n",
       "    </tr>\n",
       "  </tbody>\n",
       "</table>\n",
       "<p>153 rows × 10 columns</p>\n",
       "</div>"
      ],
      "text/plain": [
       "     kicks_home_team  one-percenters_home_team  kicks_away_team  \\\n",
       "0             3587.0                     862.0           3071.0   \n",
       "1             3007.0                     793.0           3301.0   \n",
       "2             2854.0                     708.0           2975.0   \n",
       "3             2661.0                     641.0           2975.0   \n",
       "4             2990.0                     685.0           3444.0   \n",
       "..               ...                       ...              ...   \n",
       "148           3444.0                     801.0           3071.0   \n",
       "149           2794.0                     758.0           2990.0   \n",
       "150           2975.0                     741.0           3976.0   \n",
       "151           2975.0                     718.0           3007.0   \n",
       "152           3301.0                     819.0           3444.0   \n",
       "\n",
       "     one-percenters_away_team  home_win_lose  away_win_lose  \\\n",
       "0                       719.0              1              0   \n",
       "1                       819.0              0              1   \n",
       "2                       718.0              1              0   \n",
       "3                       741.0              0              1   \n",
       "4                       872.0              0              1   \n",
       "..                        ...            ...            ...   \n",
       "148                     719.0              1              0   \n",
       "149                     685.0              1              0   \n",
       "150                     897.0              0              1   \n",
       "151                     793.0              0              1   \n",
       "152                     872.0              0              1   \n",
       "\n",
       "     kicks_home_team_normalise  one-percenters_home_team_normalise  \\\n",
       "0                     0.704183                            0.863281   \n",
       "1                     0.263118                            0.593750   \n",
       "2                     0.146768                            0.261719   \n",
       "3                     0.000000                            0.000000   \n",
       "4                     0.250190                            0.171875   \n",
       "..                         ...                                 ...   \n",
       "148                   0.595437                            0.625000   \n",
       "149                   0.101141                            0.457031   \n",
       "150                   0.238783                            0.390625   \n",
       "151                   0.238783                            0.300781   \n",
       "152                   0.486692                            0.695312   \n",
       "\n",
       "     kicks_away_team_normalise  one-percenters_away_team_normalise  \n",
       "0                     0.311787                            0.304688  \n",
       "1                     0.486692                            0.695312  \n",
       "2                     0.238783                            0.300781  \n",
       "3                     0.238783                            0.390625  \n",
       "4                     0.595437                            0.902344  \n",
       "..                         ...                                 ...  \n",
       "148                   0.311787                            0.304688  \n",
       "149                   0.250190                            0.171875  \n",
       "150                   1.000000                            1.000000  \n",
       "151                   0.263118                            0.593750  \n",
       "152                   0.595437                            0.902344  \n",
       "\n",
       "[153 rows x 10 columns]"
      ]
     },
     "execution_count": 11,
     "metadata": {},
     "output_type": "execute_result"
    }
   ],
   "source": [
    "df"
   ]
  },
  {
   "cell_type": "code",
   "execution_count": 12,
   "metadata": {},
   "outputs": [],
   "source": [
    "train, test = train_test_split(df[[df.columns[4], df.columns[5], df.columns[6], df.columns[7], df.columns[8], df.columns[9]]], test_size=0.2)"
   ]
  },
  {
   "cell_type": "code",
   "execution_count": 13,
   "metadata": {},
   "outputs": [],
   "source": [
    "from torch.utils.data import Dataset, DataLoader\n",
    "class Data(Dataset):\n",
    "    def __init__(self, df_rows_size, df_columns_size, output_size):\n",
    "            self.x=torch.zeros(df_rows_size, df_columns_size)\n",
    "            self.y=torch.zeros(df_rows_size, output_size)\n",
    "            self.len= df_rows_size\n",
    "\n",
    "    def __getitem__(self,index):\n",
    "\n",
    "        return self.x[index],self.y[index]\n",
    "    \n",
    "    def __len__(self):\n",
    "        return self.len"
   ]
  },
  {
   "cell_type": "code",
   "execution_count": 14,
   "metadata": {},
   "outputs": [],
   "source": [
    "# making dataset and filling the x and y values with the data tensors we need \n",
    "# rows: size of dataset set \n",
    "#columns: 4\n",
    "dataset_train =Data(train.shape[0], 4, 2)\n",
    "dataset_test =Data(test.shape[0], 4, 2)\n"
   ]
  },
  {
   "cell_type": "code",
   "execution_count": 15,
   "metadata": {},
   "outputs": [
    {
     "data": {
      "text/plain": [
       "Index(['home_win_lose', 'away_win_lose', 'kicks_home_team_normalise',\n",
       "       'one-percenters_home_team_normalise', 'kicks_away_team_normalise',\n",
       "       'one-percenters_away_team_normalise'],\n",
       "      dtype='object')"
      ]
     },
     "execution_count": 15,
     "metadata": {},
     "output_type": "execute_result"
    }
   ],
   "source": [
    "train.columns"
   ]
  },
  {
   "cell_type": "code",
   "execution_count": 16,
   "metadata": {},
   "outputs": [],
   "source": [
    "# making dataset and filling the x and y values with the data tensors we need \n",
    "# rows: size of dataset set \n",
    "#columns: 4\n",
    "dataset_train =Data(train.shape[0], 4, 2)\n",
    "dataset_test =Data(test.shape[0], 4, 2)\n",
    "\n",
    "# convert dataframe columns to tensors \n",
    "x_feature_1 = torch.FloatTensor(train['kicks_home_team_normalise'].to_list())\n",
    "x_feature_2 = torch.FloatTensor(train['one-percenters_home_team_normalise'].to_list())\n",
    "x_feature_3 = torch.FloatTensor(train['kicks_away_team_normalise'].to_list())\n",
    "x_feature_4 = torch.FloatTensor(train['one-percenters_away_team_normalise'].to_list())\n",
    "y_feature_1 = torch.FloatTensor(train['home_win_lose'].to_list())\n",
    "y_feature_2 = torch.FloatTensor(train['away_win_lose'].to_list())\n",
    "\n",
    "# set tensor columns \n",
    "dataset_train.x[:, 0] = x_feature_1\n",
    "dataset_train.x[:, 1] = x_feature_2\n",
    "dataset_train.x[:, 2] = x_feature_3\n",
    "dataset_train.x[:, 3] = x_feature_4\n",
    "dataset_train.y[:, 0] = y_feature_1\n",
    "dataset_train.y[:, 1] = y_feature_1\n",
    "\n",
    "# convert dataframe columns to tensors \n",
    "x_feature_1 = torch.FloatTensor(test['kicks_home_team_normalise'].to_list())\n",
    "x_feature_2 = torch.FloatTensor(test['one-percenters_home_team_normalise'].to_list())\n",
    "x_feature_3 = torch.FloatTensor(test['kicks_away_team_normalise'].to_list())\n",
    "x_feature_4 = torch.FloatTensor(test['one-percenters_away_team_normalise'].to_list())\n",
    "y_feature_1 = torch.FloatTensor(test['home_win_lose'].to_list())\n",
    "y_feature_2 = torch.FloatTensor(test['away_win_lose'].to_list())\n",
    "\n",
    "# set tensor columns \n",
    "dataset_test.x[:, 0] = x_feature_1\n",
    "dataset_test.x[:, 1] = x_feature_2\n",
    "dataset_test.x[:, 2] = x_feature_3\n",
    "dataset_test.x[:, 3] = x_feature_4\n",
    "dataset_test.y[:, 0] = y_feature_1\n",
    "dataset_test.y[:, 1] = y_feature_2\n",
    "\n",
    "# create dataloader which loads the dataset for training \n",
    "# set batch size if batches are needed \n",
    "train_loader=DataLoader(dataset=dataset_train ,batch_size=150)\n",
    "test_loader=DataLoader(dataset=dataset_train ,batch_size=150)"
   ]
  },
  {
   "cell_type": "code",
   "execution_count": null,
   "metadata": {},
   "outputs": [],
   "source": []
  },
  {
   "cell_type": "code",
   "execution_count": 17,
   "metadata": {},
   "outputs": [],
   "source": [
    "class logistic_regression(nn.Module):\n",
    "    def __init__(self,input_size,output_size):\n",
    "        super(logistic_regression,self).__init__()\n",
    "        self.linear=nn.Linear(input_size,output_size)\n",
    "        \n",
    "    def forward(self,x):\n",
    "        #yhat=torch.sigmoid(self.linear(x))\n",
    "        yhat = F.relu(self.linear(x))\n",
    "        return yhat"
   ]
  },
  {
   "cell_type": "code",
   "execution_count": 18,
   "metadata": {},
   "outputs": [],
   "source": [
    "# Create dataloader object, crierion function and optimizer.\n",
    "model = logistic_regression(4, 2)\n",
    "trainloader = DataLoader(dataset=dataset_train, batch_size=10)\n",
    "criterion_rms = nn.MSELoss()\n",
    "#criterion = nn.CrossEntropyLoss()\n",
    "learning_rate = .1\n",
    "optimizer = torch.optim.SGD(model.parameters(), lr=learning_rate, momentum=.9)"
   ]
  },
  {
   "cell_type": "code",
   "execution_count": 19,
   "metadata": {},
   "outputs": [],
   "source": [
    "def train_model(epochs, LOSS):\n",
    "    for epoch in range(epochs):\n",
    "        yhat = model(dataset_train.x)\n",
    "        loss = criterion_rms(yhat, dataset_train.y)\n",
    "        LOSS.append(loss.item())\n",
    "        optimizer.zero_grad()\n",
    "        loss.backward()\n",
    "        optimizer.step()\n",
    "    return LOSS"
   ]
  },
  {
   "cell_type": "code",
   "execution_count": 20,
   "metadata": {},
   "outputs": [],
   "source": [
    "LOSS = []\n",
    "loss = train_model(200, LOSS)"
   ]
  },
  {
   "cell_type": "code",
   "execution_count": 21,
   "metadata": {},
   "outputs": [
    {
     "data": {
      "text/plain": [
       "[<matplotlib.lines.Line2D at 0x16fede01248>]"
      ]
     },
     "execution_count": 21,
     "metadata": {},
     "output_type": "execute_result"
    },
    {
     "data": {
      "image/png": "[encoded data removed]",
      "text/plain": [
       "<Figure size 432x288 with 1 Axes>"
      ]
     },
     "metadata": {
      "needs_background": "light"
     },
     "output_type": "display_data"
    }
   ],
   "source": [
    "plt.plot(loss)"
   ]
  },
  {
   "cell_type": "code",
   "execution_count": 22,
   "metadata": {},
   "outputs": [],
   "source": [
    "# test the model \n",
    "yhat_test = model(dataset_test.x)"
   ]
  },
  {
   "cell_type": "code",
   "execution_count": 23,
   "metadata": {},
   "outputs": [
    {
     "name": "stdout",
     "output_type": "stream",
     "text": [
      "0.6129032258064516\n"
     ]
    }
   ],
   "source": [
    "correct = 0\n",
    "for index, val in enumerate(dataset_test.x):\n",
    "    yhat = model(val)\n",
    "    if yhat[0]> yhat[1]:\n",
    "        yhat[0] = 1\n",
    "    else:\n",
    "        yhat[1] = 1\n",
    "    if (yhat[0] == dataset_test.y[index][0]) | (yhat[1] == dataset_test.y[index][1]):\n",
    "        correct += 1\n",
    "print(correct / len(dataset_test.y))"
   ]
  },
  {
   "cell_type": "code",
   "execution_count": 24,
   "metadata": {},
   "outputs": [
    {
     "ename": "RuntimeError",
     "evalue": "mat1 and mat2 shapes cannot be multiplied (31x2 and 4x2)",
     "output_type": "error",
     "traceback": [
      "\u001b[1;31m---------------------------------------------------------------------------\u001b[0m",
      "\u001b[1;31mRuntimeError\u001b[0m                              Traceback (most recent call last)",
      "\u001b[1;32m<ipython-input-24-cbacc13f4ebc>\u001b[0m in \u001b[0;36m<module>\u001b[1;34m\u001b[0m\n\u001b[1;32m----> 1\u001b[1;33m \u001b[0myhat_pred\u001b[0m \u001b[1;33m=\u001b[0m \u001b[0mmodel\u001b[0m\u001b[1;33m(\u001b[0m\u001b[0mdataset_test\u001b[0m\u001b[1;33m.\u001b[0m\u001b[0my\u001b[0m\u001b[1;33m)\u001b[0m\u001b[1;33m\u001b[0m\u001b[1;33m\u001b[0m\u001b[0m\n\u001b[0m",
      "\u001b[1;32m~\\anaconda3\\envs\\MarcusEnv\\lib\\site-packages\\torch\\nn\\modules\\module.py\u001b[0m in \u001b[0;36m_call_impl\u001b[1;34m(self, *input, **kwargs)\u001b[0m\n\u001b[0;32m    887\u001b[0m             \u001b[0mresult\u001b[0m \u001b[1;33m=\u001b[0m \u001b[0mself\u001b[0m\u001b[1;33m.\u001b[0m\u001b[0m_slow_forward\u001b[0m\u001b[1;33m(\u001b[0m\u001b[1;33m*\u001b[0m\u001b[0minput\u001b[0m\u001b[1;33m,\u001b[0m \u001b[1;33m**\u001b[0m\u001b[0mkwargs\u001b[0m\u001b[1;33m)\u001b[0m\u001b[1;33m\u001b[0m\u001b[1;33m\u001b[0m\u001b[0m\n\u001b[0;32m    888\u001b[0m         \u001b[1;32melse\u001b[0m\u001b[1;33m:\u001b[0m\u001b[1;33m\u001b[0m\u001b[1;33m\u001b[0m\u001b[0m\n\u001b[1;32m--> 889\u001b[1;33m             \u001b[0mresult\u001b[0m \u001b[1;33m=\u001b[0m \u001b[0mself\u001b[0m\u001b[1;33m.\u001b[0m\u001b[0mforward\u001b[0m\u001b[1;33m(\u001b[0m\u001b[1;33m*\u001b[0m\u001b[0minput\u001b[0m\u001b[1;33m,\u001b[0m \u001b[1;33m**\u001b[0m\u001b[0mkwargs\u001b[0m\u001b[1;33m)\u001b[0m\u001b[1;33m\u001b[0m\u001b[1;33m\u001b[0m\u001b[0m\n\u001b[0m\u001b[0;32m    890\u001b[0m         for hook in itertools.chain(\n\u001b[0;32m    891\u001b[0m                 \u001b[0m_global_forward_hooks\u001b[0m\u001b[1;33m.\u001b[0m\u001b[0mvalues\u001b[0m\u001b[1;33m(\u001b[0m\u001b[1;33m)\u001b[0m\u001b[1;33m,\u001b[0m\u001b[1;33m\u001b[0m\u001b[1;33m\u001b[0m\u001b[0m\n",
      "\u001b[1;32m<ipython-input-17-7e0c3b957366>\u001b[0m in \u001b[0;36mforward\u001b[1;34m(self, x)\u001b[0m\n\u001b[0;32m      6\u001b[0m     \u001b[1;32mdef\u001b[0m \u001b[0mforward\u001b[0m\u001b[1;33m(\u001b[0m\u001b[0mself\u001b[0m\u001b[1;33m,\u001b[0m\u001b[0mx\u001b[0m\u001b[1;33m)\u001b[0m\u001b[1;33m:\u001b[0m\u001b[1;33m\u001b[0m\u001b[1;33m\u001b[0m\u001b[0m\n\u001b[0;32m      7\u001b[0m         \u001b[1;31m#yhat=torch.sigmoid(self.linear(x))\u001b[0m\u001b[1;33m\u001b[0m\u001b[1;33m\u001b[0m\u001b[1;33m\u001b[0m\u001b[0m\n\u001b[1;32m----> 8\u001b[1;33m         \u001b[0myhat\u001b[0m \u001b[1;33m=\u001b[0m \u001b[0mF\u001b[0m\u001b[1;33m.\u001b[0m\u001b[0mrelu\u001b[0m\u001b[1;33m(\u001b[0m\u001b[0mself\u001b[0m\u001b[1;33m.\u001b[0m\u001b[0mlinear\u001b[0m\u001b[1;33m(\u001b[0m\u001b[0mx\u001b[0m\u001b[1;33m)\u001b[0m\u001b[1;33m)\u001b[0m\u001b[1;33m\u001b[0m\u001b[1;33m\u001b[0m\u001b[0m\n\u001b[0m\u001b[0;32m      9\u001b[0m         \u001b[1;32mreturn\u001b[0m \u001b[0myhat\u001b[0m\u001b[1;33m\u001b[0m\u001b[1;33m\u001b[0m\u001b[0m\n",
      "\u001b[1;32m~\\anaconda3\\envs\\MarcusEnv\\lib\\site-packages\\torch\\nn\\modules\\module.py\u001b[0m in \u001b[0;36m_call_impl\u001b[1;34m(self, *input, **kwargs)\u001b[0m\n\u001b[0;32m    887\u001b[0m             \u001b[0mresult\u001b[0m \u001b[1;33m=\u001b[0m \u001b[0mself\u001b[0m\u001b[1;33m.\u001b[0m\u001b[0m_slow_forward\u001b[0m\u001b[1;33m(\u001b[0m\u001b[1;33m*\u001b[0m\u001b[0minput\u001b[0m\u001b[1;33m,\u001b[0m \u001b[1;33m**\u001b[0m\u001b[0mkwargs\u001b[0m\u001b[1;33m)\u001b[0m\u001b[1;33m\u001b[0m\u001b[1;33m\u001b[0m\u001b[0m\n\u001b[0;32m    888\u001b[0m         \u001b[1;32melse\u001b[0m\u001b[1;33m:\u001b[0m\u001b[1;33m\u001b[0m\u001b[1;33m\u001b[0m\u001b[0m\n\u001b[1;32m--> 889\u001b[1;33m             \u001b[0mresult\u001b[0m \u001b[1;33m=\u001b[0m \u001b[0mself\u001b[0m\u001b[1;33m.\u001b[0m\u001b[0mforward\u001b[0m\u001b[1;33m(\u001b[0m\u001b[1;33m*\u001b[0m\u001b[0minput\u001b[0m\u001b[1;33m,\u001b[0m \u001b[1;33m**\u001b[0m\u001b[0mkwargs\u001b[0m\u001b[1;33m)\u001b[0m\u001b[1;33m\u001b[0m\u001b[1;33m\u001b[0m\u001b[0m\n\u001b[0m\u001b[0;32m    890\u001b[0m         for hook in itertools.chain(\n\u001b[0;32m    891\u001b[0m                 \u001b[0m_global_forward_hooks\u001b[0m\u001b[1;33m.\u001b[0m\u001b[0mvalues\u001b[0m\u001b[1;33m(\u001b[0m\u001b[1;33m)\u001b[0m\u001b[1;33m,\u001b[0m\u001b[1;33m\u001b[0m\u001b[1;33m\u001b[0m\u001b[0m\n",
      "\u001b[1;32m~\\anaconda3\\envs\\MarcusEnv\\lib\\site-packages\\torch\\nn\\modules\\linear.py\u001b[0m in \u001b[0;36mforward\u001b[1;34m(self, input)\u001b[0m\n\u001b[0;32m     92\u001b[0m \u001b[1;33m\u001b[0m\u001b[0m\n\u001b[0;32m     93\u001b[0m     \u001b[1;32mdef\u001b[0m \u001b[0mforward\u001b[0m\u001b[1;33m(\u001b[0m\u001b[0mself\u001b[0m\u001b[1;33m,\u001b[0m \u001b[0minput\u001b[0m\u001b[1;33m:\u001b[0m \u001b[0mTensor\u001b[0m\u001b[1;33m)\u001b[0m \u001b[1;33m->\u001b[0m \u001b[0mTensor\u001b[0m\u001b[1;33m:\u001b[0m\u001b[1;33m\u001b[0m\u001b[1;33m\u001b[0m\u001b[0m\n\u001b[1;32m---> 94\u001b[1;33m         \u001b[1;32mreturn\u001b[0m \u001b[0mF\u001b[0m\u001b[1;33m.\u001b[0m\u001b[0mlinear\u001b[0m\u001b[1;33m(\u001b[0m\u001b[0minput\u001b[0m\u001b[1;33m,\u001b[0m \u001b[0mself\u001b[0m\u001b[1;33m.\u001b[0m\u001b[0mweight\u001b[0m\u001b[1;33m,\u001b[0m \u001b[0mself\u001b[0m\u001b[1;33m.\u001b[0m\u001b[0mbias\u001b[0m\u001b[1;33m)\u001b[0m\u001b[1;33m\u001b[0m\u001b[1;33m\u001b[0m\u001b[0m\n\u001b[0m\u001b[0;32m     95\u001b[0m \u001b[1;33m\u001b[0m\u001b[0m\n\u001b[0;32m     96\u001b[0m     \u001b[1;32mdef\u001b[0m \u001b[0mextra_repr\u001b[0m\u001b[1;33m(\u001b[0m\u001b[0mself\u001b[0m\u001b[1;33m)\u001b[0m \u001b[1;33m->\u001b[0m \u001b[0mstr\u001b[0m\u001b[1;33m:\u001b[0m\u001b[1;33m\u001b[0m\u001b[1;33m\u001b[0m\u001b[0m\n",
      "\u001b[1;32m~\\anaconda3\\envs\\MarcusEnv\\lib\\site-packages\\torch\\nn\\functional.py\u001b[0m in \u001b[0;36mlinear\u001b[1;34m(input, weight, bias)\u001b[0m\n\u001b[0;32m   1751\u001b[0m     \u001b[1;32mif\u001b[0m \u001b[0mhas_torch_function_variadic\u001b[0m\u001b[1;33m(\u001b[0m\u001b[0minput\u001b[0m\u001b[1;33m,\u001b[0m \u001b[0mweight\u001b[0m\u001b[1;33m)\u001b[0m\u001b[1;33m:\u001b[0m\u001b[1;33m\u001b[0m\u001b[1;33m\u001b[0m\u001b[0m\n\u001b[0;32m   1752\u001b[0m         \u001b[1;32mreturn\u001b[0m \u001b[0mhandle_torch_function\u001b[0m\u001b[1;33m(\u001b[0m\u001b[0mlinear\u001b[0m\u001b[1;33m,\u001b[0m \u001b[1;33m(\u001b[0m\u001b[0minput\u001b[0m\u001b[1;33m,\u001b[0m \u001b[0mweight\u001b[0m\u001b[1;33m)\u001b[0m\u001b[1;33m,\u001b[0m \u001b[0minput\u001b[0m\u001b[1;33m,\u001b[0m \u001b[0mweight\u001b[0m\u001b[1;33m,\u001b[0m \u001b[0mbias\u001b[0m\u001b[1;33m=\u001b[0m\u001b[0mbias\u001b[0m\u001b[1;33m)\u001b[0m\u001b[1;33m\u001b[0m\u001b[1;33m\u001b[0m\u001b[0m\n\u001b[1;32m-> 1753\u001b[1;33m     \u001b[1;32mreturn\u001b[0m \u001b[0mtorch\u001b[0m\u001b[1;33m.\u001b[0m\u001b[0m_C\u001b[0m\u001b[1;33m.\u001b[0m\u001b[0m_nn\u001b[0m\u001b[1;33m.\u001b[0m\u001b[0mlinear\u001b[0m\u001b[1;33m(\u001b[0m\u001b[0minput\u001b[0m\u001b[1;33m,\u001b[0m \u001b[0mweight\u001b[0m\u001b[1;33m,\u001b[0m \u001b[0mbias\u001b[0m\u001b[1;33m)\u001b[0m\u001b[1;33m\u001b[0m\u001b[1;33m\u001b[0m\u001b[0m\n\u001b[0m\u001b[0;32m   1754\u001b[0m \u001b[1;33m\u001b[0m\u001b[0m\n\u001b[0;32m   1755\u001b[0m \u001b[1;33m\u001b[0m\u001b[0m\n",
      "\u001b[1;31mRuntimeError\u001b[0m: mat1 and mat2 shapes cannot be multiplied (31x2 and 4x2)"
     ]
    }
   ],
   "source": [
    "yhat_pred = model(dataset_test.y)"
   ]
  },
  {
   "cell_type": "code",
   "execution_count": null,
   "metadata": {},
   "outputs": [],
   "source": []
  },
  {
   "cell_type": "code",
   "execution_count": null,
   "metadata": {},
   "outputs": [],
   "source": []
  },
  {
   "cell_type": "code",
   "execution_count": null,
   "metadata": {},
   "outputs": [],
   "source": []
  },
  {
   "cell_type": "code",
   "execution_count": null,
   "metadata": {},
   "outputs": [],
   "source": []
  }
 ],
 "metadata": {
  "kernelspec": {
   "display_name": "Python 3",
   "language": "python",
   "name": "python3"
  },
  "language_info": {
   "codemirror_mode": {
    "name": "ipython",
    "version": 3
   },
   "file_extension": ".py",
   "mimetype": "text/x-python",
   "name": "python",
   "nbconvert_exporter": "python",
   "pygments_lexer": "ipython3",
   "version": "3.7.10"
  }
 },
 "nbformat": 4,
 "nbformat_minor": 5
}
